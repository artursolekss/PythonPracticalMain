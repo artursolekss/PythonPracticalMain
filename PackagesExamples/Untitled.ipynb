{
 "cells": [
  {
   "cell_type": "markdown",
   "id": "8b780e92",
   "metadata": {},
   "source": [
    "# Here is the story"
   ]
  },
  {
   "cell_type": "markdown",
   "id": "024d24ad",
   "metadata": {},
   "source": [
    "$x=15$"
   ]
  },
  {
   "cell_type": "markdown",
   "id": "6048c644",
   "metadata": {},
   "source": [
    "$y=20$"
   ]
  },
  {
   "cell_type": "markdown",
   "id": "736b6d11",
   "metadata": {},
   "source": [
    "z = x*y"
   ]
  },
  {
   "cell_type": "markdown",
   "id": "1a56d3ef",
   "metadata": {},
   "source": [
    "$z = x*y$"
   ]
  },
  {
   "cell_type": "code",
   "execution_count": 1,
   "id": "08c513dd",
   "metadata": {},
   "outputs": [],
   "source": [
    "x = 15"
   ]
  },
  {
   "cell_type": "code",
   "execution_count": 2,
   "id": "f90646e6",
   "metadata": {},
   "outputs": [],
   "source": [
    "y= 20"
   ]
  },
  {
   "cell_type": "code",
   "execution_count": 3,
   "id": "81e072a2",
   "metadata": {},
   "outputs": [],
   "source": [
    "z = x * y"
   ]
  },
  {
   "cell_type": "code",
   "execution_count": 4,
   "id": "7da89d65",
   "metadata": {},
   "outputs": [
    {
     "name": "stdout",
     "output_type": "stream",
     "text": [
      "300\n"
     ]
    }
   ],
   "source": [
    "print(z)"
   ]
  },
  {
   "cell_type": "code",
   "execution_count": null,
   "id": "6898f15b",
   "metadata": {},
   "outputs": [],
   "source": []
  }
 ],
 "metadata": {
  "kernelspec": {
   "display_name": "Python 3 (ipykernel)",
   "language": "python",
   "name": "python3"
  },
  "language_info": {
   "codemirror_mode": {
    "name": "ipython",
    "version": 3
   },
   "file_extension": ".py",
   "mimetype": "text/x-python",
   "name": "python",
   "nbconvert_exporter": "python",
   "pygments_lexer": "ipython3",
   "version": "3.10.10"
  }
 },
 "nbformat": 4,
 "nbformat_minor": 5
}
