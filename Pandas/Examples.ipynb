{
 "cells": [
  {
   "cell_type": "code",
   "execution_count": 1,
   "id": "a790d0e2",
   "metadata": {},
   "outputs": [],
   "source": [
    "import pandas"
   ]
  },
  {
   "cell_type": "code",
   "execution_count": 62,
   "id": "b07c735f",
   "metadata": {},
   "outputs": [],
   "source": [
    "data = pandas.read_excel(\"https://nasdaqbaltic.com/statistics/en/shares?download=1\")"
   ]
  },
  {
   "cell_type": "code",
   "execution_count": 63,
   "id": "8ebfebdf",
   "metadata": {},
   "outputs": [
    {
     "data": {
      "text/html": [
       "<div>\n",
       "<style scoped>\n",
       "    .dataframe tbody tr th:only-of-type {\n",
       "        vertical-align: middle;\n",
       "    }\n",
       "\n",
       "    .dataframe tbody tr th {\n",
       "        vertical-align: top;\n",
       "    }\n",
       "\n",
       "    .dataframe thead th {\n",
       "        text-align: right;\n",
       "    }\n",
       "</style>\n",
       "<table border=\"1\" class=\"dataframe\">\n",
       "  <thead>\n",
       "    <tr style=\"text-align: right;\">\n",
       "      <th></th>\n",
       "      <th>Ticker</th>\n",
       "      <th>Name</th>\n",
       "      <th>ISIN</th>\n",
       "      <th>Currency</th>\n",
       "      <th>MarketPlace</th>\n",
       "      <th>List/segment</th>\n",
       "      <th>Average Price</th>\n",
       "      <th>Open Price</th>\n",
       "      <th>High Price</th>\n",
       "      <th>Low Price</th>\n",
       "      <th>Last close Price</th>\n",
       "      <th>Last Price</th>\n",
       "      <th>Price Change(%)</th>\n",
       "      <th>Best bid</th>\n",
       "      <th>Best ask</th>\n",
       "      <th>Trades</th>\n",
       "      <th>Volume</th>\n",
       "      <th>Turnover</th>\n",
       "      <th>Industry</th>\n",
       "      <th>Supersector</th>\n",
       "    </tr>\n",
       "  </thead>\n",
       "  <tbody>\n",
       "    <tr>\n",
       "      <th>0</th>\n",
       "      <td>AIR</td>\n",
       "      <td>Airobot Technologies</td>\n",
       "      <td>EE3100092792</td>\n",
       "      <td>EUR</td>\n",
       "      <td>TLN</td>\n",
       "      <td>First North Baltic Share List</td>\n",
       "      <td>3.950087</td>\n",
       "      <td>3.950</td>\n",
       "      <td>3.960</td>\n",
       "      <td>3.950</td>\n",
       "      <td>3.960</td>\n",
       "      <td>3.950</td>\n",
       "      <td>-0.25</td>\n",
       "      <td>3.950</td>\n",
       "      <td>3.960</td>\n",
       "      <td>4.0</td>\n",
       "      <td>115.0</td>\n",
       "      <td>454.260</td>\n",
       "      <td>Industrials</td>\n",
       "      <td>Construction and Materials</td>\n",
       "    </tr>\n",
       "    <tr>\n",
       "      <th>1</th>\n",
       "      <td>AMG1L</td>\n",
       "      <td>Amber Grid</td>\n",
       "      <td>LT0000128696</td>\n",
       "      <td>EUR</td>\n",
       "      <td>VLN</td>\n",
       "      <td>Baltic Secondary List</td>\n",
       "      <td>1.217248</td>\n",
       "      <td>1.220</td>\n",
       "      <td>1.230</td>\n",
       "      <td>1.210</td>\n",
       "      <td>1.240</td>\n",
       "      <td>1.230</td>\n",
       "      <td>-0.81</td>\n",
       "      <td>1.220</td>\n",
       "      <td>1.230</td>\n",
       "      <td>20.0</td>\n",
       "      <td>5015.0</td>\n",
       "      <td>6104.500</td>\n",
       "      <td>Energy</td>\n",
       "      <td>Energy</td>\n",
       "    </tr>\n",
       "    <tr>\n",
       "      <th>2</th>\n",
       "      <td>APG1L</td>\n",
       "      <td>Apranga</td>\n",
       "      <td>LT0000102337</td>\n",
       "      <td>EUR</td>\n",
       "      <td>VLN</td>\n",
       "      <td>Baltic Main List</td>\n",
       "      <td>2.670399</td>\n",
       "      <td>2.610</td>\n",
       "      <td>2.740</td>\n",
       "      <td>2.610</td>\n",
       "      <td>2.540</td>\n",
       "      <td>2.700</td>\n",
       "      <td>6.30</td>\n",
       "      <td>2.700</td>\n",
       "      <td>2.700</td>\n",
       "      <td>396.0</td>\n",
       "      <td>123531.0</td>\n",
       "      <td>329877.005</td>\n",
       "      <td>Consumer Discretionary</td>\n",
       "      <td>Retail</td>\n",
       "    </tr>\n",
       "    <tr>\n",
       "      <th>3</th>\n",
       "      <td>ARC1T</td>\n",
       "      <td>Arco Vara</td>\n",
       "      <td>EE3100034653</td>\n",
       "      <td>EUR</td>\n",
       "      <td>TLN</td>\n",
       "      <td>Baltic Main List</td>\n",
       "      <td>1.773198</td>\n",
       "      <td>1.780</td>\n",
       "      <td>1.780</td>\n",
       "      <td>1.770</td>\n",
       "      <td>1.780</td>\n",
       "      <td>1.770</td>\n",
       "      <td>-0.56</td>\n",
       "      <td>1.770</td>\n",
       "      <td>1.780</td>\n",
       "      <td>36.0</td>\n",
       "      <td>655.0</td>\n",
       "      <td>1161.445</td>\n",
       "      <td>Real Estate</td>\n",
       "      <td>Real Estate</td>\n",
       "    </tr>\n",
       "    <tr>\n",
       "      <th>4</th>\n",
       "      <td>AUG1L</td>\n",
       "      <td>AUGA group</td>\n",
       "      <td>LT0000127466</td>\n",
       "      <td>EUR</td>\n",
       "      <td>VLN</td>\n",
       "      <td>Baltic Main List</td>\n",
       "      <td>0.444943</td>\n",
       "      <td>0.449</td>\n",
       "      <td>0.449</td>\n",
       "      <td>0.444</td>\n",
       "      <td>0.447</td>\n",
       "      <td>0.448</td>\n",
       "      <td>0.22</td>\n",
       "      <td>0.444</td>\n",
       "      <td>0.445</td>\n",
       "      <td>102.0</td>\n",
       "      <td>10266.0</td>\n",
       "      <td>4567.789</td>\n",
       "      <td>Consumer Staples</td>\n",
       "      <td>Food, Beverage and Tobacco</td>\n",
       "    </tr>\n",
       "    <tr>\n",
       "      <th>...</th>\n",
       "      <td>...</td>\n",
       "      <td>...</td>\n",
       "      <td>...</td>\n",
       "      <td>...</td>\n",
       "      <td>...</td>\n",
       "      <td>...</td>\n",
       "      <td>...</td>\n",
       "      <td>...</td>\n",
       "      <td>...</td>\n",
       "      <td>...</td>\n",
       "      <td>...</td>\n",
       "      <td>...</td>\n",
       "      <td>...</td>\n",
       "      <td>...</td>\n",
       "      <td>...</td>\n",
       "      <td>...</td>\n",
       "      <td>...</td>\n",
       "      <td>...</td>\n",
       "      <td>...</td>\n",
       "      <td>...</td>\n",
       "    </tr>\n",
       "    <tr>\n",
       "      <th>70</th>\n",
       "      <td>VBL1L</td>\n",
       "      <td>Vilniaus baldai</td>\n",
       "      <td>LT0000104267</td>\n",
       "      <td>EUR</td>\n",
       "      <td>VLN</td>\n",
       "      <td>Baltic Secondary List</td>\n",
       "      <td>7.000000</td>\n",
       "      <td>7.000</td>\n",
       "      <td>7.000</td>\n",
       "      <td>7.000</td>\n",
       "      <td>7.000</td>\n",
       "      <td>7.000</td>\n",
       "      <td>NaN</td>\n",
       "      <td>6.950</td>\n",
       "      <td>7.000</td>\n",
       "      <td>9.0</td>\n",
       "      <td>30.0</td>\n",
       "      <td>210.000</td>\n",
       "      <td>Consumer Discretionary</td>\n",
       "      <td>Consumer Products and Services</td>\n",
       "    </tr>\n",
       "    <tr>\n",
       "      <th>71</th>\n",
       "      <td>VEF1R</td>\n",
       "      <td>VEF</td>\n",
       "      <td>LV0000101079</td>\n",
       "      <td>EUR</td>\n",
       "      <td>RIG</td>\n",
       "      <td>Baltic Secondary List</td>\n",
       "      <td>5.638889</td>\n",
       "      <td>5.750</td>\n",
       "      <td>5.750</td>\n",
       "      <td>5.150</td>\n",
       "      <td>5.150</td>\n",
       "      <td>5.700</td>\n",
       "      <td>10.68</td>\n",
       "      <td>5.150</td>\n",
       "      <td>5.700</td>\n",
       "      <td>6.0</td>\n",
       "      <td>36.0</td>\n",
       "      <td>203.000</td>\n",
       "      <td>Real Estate</td>\n",
       "      <td>Real Estate</td>\n",
       "    </tr>\n",
       "    <tr>\n",
       "      <th>72</th>\n",
       "      <td>VIRSI</td>\n",
       "      <td>VIRŠI-A</td>\n",
       "      <td>LV0000101848</td>\n",
       "      <td>EUR</td>\n",
       "      <td>RIG</td>\n",
       "      <td>First North Baltic Share List</td>\n",
       "      <td>4.440181</td>\n",
       "      <td>4.440</td>\n",
       "      <td>4.450</td>\n",
       "      <td>4.440</td>\n",
       "      <td>4.430</td>\n",
       "      <td>4.440</td>\n",
       "      <td>0.23</td>\n",
       "      <td>4.440</td>\n",
       "      <td>4.450</td>\n",
       "      <td>20.0</td>\n",
       "      <td>552.0</td>\n",
       "      <td>2450.980</td>\n",
       "      <td>Consumer Discretionary</td>\n",
       "      <td>Retail</td>\n",
       "    </tr>\n",
       "    <tr>\n",
       "      <th>73</th>\n",
       "      <td>VLP1L</td>\n",
       "      <td>Vilkyškių pieninė</td>\n",
       "      <td>LT0000127508</td>\n",
       "      <td>EUR</td>\n",
       "      <td>VLN</td>\n",
       "      <td>Baltic Main List</td>\n",
       "      <td>5.108351</td>\n",
       "      <td>5.120</td>\n",
       "      <td>5.140</td>\n",
       "      <td>5.100</td>\n",
       "      <td>5.180</td>\n",
       "      <td>5.140</td>\n",
       "      <td>-0.77</td>\n",
       "      <td>5.100</td>\n",
       "      <td>5.140</td>\n",
       "      <td>11.0</td>\n",
       "      <td>1540.0</td>\n",
       "      <td>7866.860</td>\n",
       "      <td>Consumer Staples</td>\n",
       "      <td>Food, Beverage and Tobacco</td>\n",
       "    </tr>\n",
       "    <tr>\n",
       "      <th>74</th>\n",
       "      <td>ZMP1L</td>\n",
       "      <td>Žemaitijos pienas</td>\n",
       "      <td>LT0000121865</td>\n",
       "      <td>EUR</td>\n",
       "      <td>VLN</td>\n",
       "      <td>Baltic Secondary List</td>\n",
       "      <td>NaN</td>\n",
       "      <td>1.800</td>\n",
       "      <td>NaN</td>\n",
       "      <td>NaN</td>\n",
       "      <td>1.800</td>\n",
       "      <td>1.800</td>\n",
       "      <td>NaN</td>\n",
       "      <td>1.790</td>\n",
       "      <td>1.820</td>\n",
       "      <td>NaN</td>\n",
       "      <td>NaN</td>\n",
       "      <td>NaN</td>\n",
       "      <td>Consumer Staples</td>\n",
       "      <td>Food, Beverage and Tobacco</td>\n",
       "    </tr>\n",
       "  </tbody>\n",
       "</table>\n",
       "<p>75 rows × 20 columns</p>\n",
       "</div>"
      ],
      "text/plain": [
       "   Ticker                  Name          ISIN Currency MarketPlace  \\\n",
       "0     AIR  Airobot Technologies  EE3100092792      EUR         TLN   \n",
       "1   AMG1L            Amber Grid  LT0000128696      EUR         VLN   \n",
       "2   APG1L               Apranga  LT0000102337      EUR         VLN   \n",
       "3   ARC1T             Arco Vara  EE3100034653      EUR         TLN   \n",
       "4   AUG1L            AUGA group  LT0000127466      EUR         VLN   \n",
       "..    ...                   ...           ...      ...         ...   \n",
       "70  VBL1L       Vilniaus baldai  LT0000104267      EUR         VLN   \n",
       "71  VEF1R                   VEF  LV0000101079      EUR         RIG   \n",
       "72  VIRSI               VIRŠI-A  LV0000101848      EUR         RIG   \n",
       "73  VLP1L     Vilkyškių pieninė  LT0000127508      EUR         VLN   \n",
       "74  ZMP1L     Žemaitijos pienas  LT0000121865      EUR         VLN   \n",
       "\n",
       "                     List/segment  Average Price  Open Price  High Price  \\\n",
       "0   First North Baltic Share List       3.950087       3.950       3.960   \n",
       "1           Baltic Secondary List       1.217248       1.220       1.230   \n",
       "2                Baltic Main List       2.670399       2.610       2.740   \n",
       "3                Baltic Main List       1.773198       1.780       1.780   \n",
       "4                Baltic Main List       0.444943       0.449       0.449   \n",
       "..                            ...            ...         ...         ...   \n",
       "70          Baltic Secondary List       7.000000       7.000       7.000   \n",
       "71          Baltic Secondary List       5.638889       5.750       5.750   \n",
       "72  First North Baltic Share List       4.440181       4.440       4.450   \n",
       "73               Baltic Main List       5.108351       5.120       5.140   \n",
       "74          Baltic Secondary List            NaN       1.800         NaN   \n",
       "\n",
       "    Low Price  Last close Price  Last Price  Price Change(%)  Best bid  \\\n",
       "0       3.950             3.960       3.950            -0.25     3.950   \n",
       "1       1.210             1.240       1.230            -0.81     1.220   \n",
       "2       2.610             2.540       2.700             6.30     2.700   \n",
       "3       1.770             1.780       1.770            -0.56     1.770   \n",
       "4       0.444             0.447       0.448             0.22     0.444   \n",
       "..        ...               ...         ...              ...       ...   \n",
       "70      7.000             7.000       7.000              NaN     6.950   \n",
       "71      5.150             5.150       5.700            10.68     5.150   \n",
       "72      4.440             4.430       4.440             0.23     4.440   \n",
       "73      5.100             5.180       5.140            -0.77     5.100   \n",
       "74        NaN             1.800       1.800              NaN     1.790   \n",
       "\n",
       "    Best ask  Trades    Volume    Turnover                Industry  \\\n",
       "0      3.960     4.0     115.0     454.260             Industrials   \n",
       "1      1.230    20.0    5015.0    6104.500                  Energy   \n",
       "2      2.700   396.0  123531.0  329877.005  Consumer Discretionary   \n",
       "3      1.780    36.0     655.0    1161.445             Real Estate   \n",
       "4      0.445   102.0   10266.0    4567.789       Consumer Staples    \n",
       "..       ...     ...       ...         ...                     ...   \n",
       "70     7.000     9.0      30.0     210.000  Consumer Discretionary   \n",
       "71     5.700     6.0      36.0     203.000             Real Estate   \n",
       "72     4.450    20.0     552.0    2450.980  Consumer Discretionary   \n",
       "73     5.140    11.0    1540.0    7866.860       Consumer Staples    \n",
       "74     1.820     NaN       NaN         NaN       Consumer Staples    \n",
       "\n",
       "                       Supersector  \n",
       "0       Construction and Materials  \n",
       "1                           Energy  \n",
       "2                           Retail  \n",
       "3                      Real Estate  \n",
       "4      Food, Beverage and Tobacco   \n",
       "..                             ...  \n",
       "70  Consumer Products and Services  \n",
       "71                     Real Estate  \n",
       "72                          Retail  \n",
       "73     Food, Beverage and Tobacco   \n",
       "74     Food, Beverage and Tobacco   \n",
       "\n",
       "[75 rows x 20 columns]"
      ]
     },
     "execution_count": 63,
     "metadata": {},
     "output_type": "execute_result"
    }
   ],
   "source": [
    "data"
   ]
  },
  {
   "cell_type": "code",
   "execution_count": 8,
   "id": "6dfdd5f0",
   "metadata": {},
   "outputs": [],
   "source": [
    "chages = data['Price Change(%)']"
   ]
  },
  {
   "cell_type": "code",
   "execution_count": 12,
   "id": "3f5b2311",
   "metadata": {},
   "outputs": [],
   "source": [
    "import matplotlib.pyplot as pl"
   ]
  },
  {
   "cell_type": "code",
   "execution_count": 13,
   "id": "fecd2bf2",
   "metadata": {},
   "outputs": [
    {
     "data": {
      "text/plain": [
       "(array([ 1.,  0.,  0.,  0.,  0.,  1.,  4., 36.,  3.,  1.]),\n",
       " array([-29.82, -25.77, -21.72, -17.67, -13.62,  -9.57,  -5.52,  -1.47,\n",
       "          2.58,   6.63,  10.68]),\n",
       " <BarContainer object of 10 artists>)"
      ]
     },
     "execution_count": 13,
     "metadata": {},
     "output_type": "execute_result"
    },
    {
     "data": {
      "image/png": "[encoded data removed]",
      "text/plain": [
       "<Figure size 640x480 with 1 Axes>"
      ]
     },
     "metadata": {},
     "output_type": "display_data"
    }
   ],
   "source": [
    "pl.hist(chages)"
   ]
  },
  {
   "cell_type": "code",
   "execution_count": 14,
   "id": "12cf9ed0",
   "metadata": {},
   "outputs": [
    {
     "data": {
      "text/plain": [
       "{'whiskers': [<matplotlib.lines.Line2D at 0x24ec74d50c0>,\n",
       "  <matplotlib.lines.Line2D at 0x24ec74d5420>],\n",
       " 'caps': [<matplotlib.lines.Line2D at 0x24ec74d5600>,\n",
       "  <matplotlib.lines.Line2D at 0x24ec74d5960>],\n",
       " 'boxes': [<matplotlib.lines.Line2D at 0x24ec74d4ee0>],\n",
       " 'medians': [<matplotlib.lines.Line2D at 0x24ec74d5b40>],\n",
       " 'fliers': [<matplotlib.lines.Line2D at 0x24ec74d5ea0>],\n",
       " 'means': []}"
      ]
     },
     "execution_count": 14,
     "metadata": {},
     "output_type": "execute_result"
    },
    {
     "data": {
      "image/png": "[encoded data removed]",
      "text/plain": [
       "<Figure size 640x480 with 1 Axes>"
      ]
     },
     "metadata": {},
     "output_type": "display_data"
    }
   ],
   "source": [
    "pl.boxplot(chages)"
   ]
  },
  {
   "cell_type": "code",
   "execution_count": 15,
   "id": "3ab19501",
   "metadata": {},
   "outputs": [],
   "source": [
    "changes = chages\n",
    "del chages"
   ]
  },
  {
   "cell_type": "code",
   "execution_count": 16,
   "id": "6263b115",
   "metadata": {},
   "outputs": [],
   "source": [
    "changes = [value for value in changes if(str(value)) != \"nan\"]"
   ]
  },
  {
   "cell_type": "code",
   "execution_count": 17,
   "id": "343cc4ef",
   "metadata": {},
   "outputs": [
    {
     "data": {
      "text/plain": [
       "[-0.25,\n",
       " -0.81,\n",
       " 6.3,\n",
       " -0.56,\n",
       " 0.22,\n",
       " 0.33,\n",
       " 0.36,\n",
       " -29.82,\n",
       " 0.61,\n",
       " 1.1,\n",
       " -4.96,\n",
       " 0.4,\n",
       " -0.34,\n",
       " 0.48,\n",
       " 1.04,\n",
       " 0.74,\n",
       " -1.79,\n",
       " -0.87,\n",
       " -0.4,\n",
       " 4.26,\n",
       " -0.71,\n",
       " -0.42,\n",
       " -4.31,\n",
       " -0.31,\n",
       " 0.28,\n",
       " 1.17,\n",
       " -0.22,\n",
       " -1.18,\n",
       " 0.64,\n",
       " -0.63,\n",
       " 3.57,\n",
       " 1.29,\n",
       " -0.28,\n",
       " 0.41,\n",
       " -0.67,\n",
       " 1.15,\n",
       " -0.92,\n",
       " -3.51,\n",
       " -7.69,\n",
       " -0.35,\n",
       " -0.99,\n",
       " 0.3,\n",
       " 0.14,\n",
       " 10.68,\n",
       " 0.23,\n",
       " -0.77]"
      ]
     },
     "execution_count": 17,
     "metadata": {},
     "output_type": "execute_result"
    }
   ],
   "source": [
    "changes"
   ]
  },
  {
   "cell_type": "code",
   "execution_count": 18,
   "id": "2ff5e00c",
   "metadata": {},
   "outputs": [
    {
     "data": {
      "text/plain": [
       "{'whiskers': [<matplotlib.lines.Line2D at 0x24ec81dbee0>,\n",
       "  <matplotlib.lines.Line2D at 0x24ec81dbb50>],\n",
       " 'caps': [<matplotlib.lines.Line2D at 0x24ec81daef0>,\n",
       "  <matplotlib.lines.Line2D at 0x24ec81db940>],\n",
       " 'boxes': [<matplotlib.lines.Line2D at 0x24ec81d8070>],\n",
       " 'medians': [<matplotlib.lines.Line2D at 0x24ec81dbb20>],\n",
       " 'fliers': [<matplotlib.lines.Line2D at 0x24ec81da3b0>],\n",
       " 'means': []}"
      ]
     },
     "execution_count": 18,
     "metadata": {},
     "output_type": "execute_result"
    },
    {
     "data": {
      "image/png": "[encoded data removed]",
      "text/plain": [
       "<Figure size 640x480 with 1 Axes>"
      ]
     },
     "metadata": {},
     "output_type": "display_data"
    }
   ],
   "source": [
    "pl.boxplot(changes)"
   ]
  },
  {
   "cell_type": "code",
   "execution_count": 27,
   "id": "7a49ca3f",
   "metadata": {},
   "outputs": [],
   "source": [
    "simpledata = [1,2,3,4,5,6,7,8,9,20]"
   ]
  },
  {
   "cell_type": "code",
   "execution_count": 21,
   "id": "d5e2cee9",
   "metadata": {},
   "outputs": [],
   "source": [
    "import statistics"
   ]
  },
  {
   "cell_type": "code",
   "execution_count": 28,
   "id": "10689656",
   "metadata": {},
   "outputs": [
    {
     "data": {
      "text/plain": [
       "6.5"
      ]
     },
     "execution_count": 28,
     "metadata": {},
     "output_type": "execute_result"
    }
   ],
   "source": [
    "statistics.mean(simpledata)"
   ]
  },
  {
   "cell_type": "code",
   "execution_count": 29,
   "id": "e9671a77",
   "metadata": {},
   "outputs": [
    {
     "data": {
      "text/plain": [
       "5.5"
      ]
     },
     "execution_count": 29,
     "metadata": {},
     "output_type": "execute_result"
    }
   ],
   "source": [
    "statistics.median(simpledata)"
   ]
  },
  {
   "cell_type": "code",
   "execution_count": 30,
   "id": "44778b6b",
   "metadata": {},
   "outputs": [
    {
     "data": {
      "text/plain": [
       "29.166666666666668"
      ]
     },
     "execution_count": 30,
     "metadata": {},
     "output_type": "execute_result"
    }
   ],
   "source": [
    "statistics.variance(simpledata)"
   ]
  },
  {
   "cell_type": "code",
   "execution_count": 31,
   "id": "75081802",
   "metadata": {},
   "outputs": [
    {
     "data": {
      "text/plain": [
       "5.400617248673217"
      ]
     },
     "execution_count": 31,
     "metadata": {},
     "output_type": "execute_result"
    }
   ],
   "source": [
    "statistics.sqrt(statistics.variance(simpledata))"
   ]
  },
  {
   "cell_type": "code",
   "execution_count": 32,
   "id": "791dc3c9",
   "metadata": {},
   "outputs": [],
   "source": [
    "import numpy as np"
   ]
  },
  {
   "cell_type": "code",
   "execution_count": 36,
   "id": "b43738fc",
   "metadata": {},
   "outputs": [
    {
     "data": {
      "text/plain": [
       "array([ 3.25,  5.5 ,  7.75, 20.  ])"
      ]
     },
     "execution_count": 36,
     "metadata": {},
     "output_type": "execute_result"
    }
   ],
   "source": [
    "np.percentile(simpledata,[25,50,75,100])"
   ]
  },
  {
   "cell_type": "code",
   "execution_count": 50,
   "id": "e8c15b58",
   "metadata": {},
   "outputs": [],
   "source": [
    "allMarkets = set(data['MarketPlace'])\n",
    "for market in allMarkets:\n",
    "    market_data = data[data['MarketPlace'] == market]\n",
    "    market_data.to_excel(market+\"_data.xlsx\")"
   ]
  },
  {
   "cell_type": "code",
   "execution_count": 65,
   "id": "506d0a00",
   "metadata": {},
   "outputs": [
    {
     "data": {
      "text/html": [
       "<div>\n",
       "<style scoped>\n",
       "    .dataframe tbody tr th:only-of-type {\n",
       "        vertical-align: middle;\n",
       "    }\n",
       "\n",
       "    .dataframe tbody tr th {\n",
       "        vertical-align: top;\n",
       "    }\n",
       "\n",
       "    .dataframe thead th {\n",
       "        text-align: right;\n",
       "    }\n",
       "</style>\n",
       "<table border=\"1\" class=\"dataframe\">\n",
       "  <thead>\n",
       "    <tr style=\"text-align: right;\">\n",
       "      <th></th>\n",
       "      <th>Ticker</th>\n",
       "      <th>MarketPlace</th>\n",
       "      <th>Price Change(%)</th>\n",
       "    </tr>\n",
       "  </thead>\n",
       "  <tbody>\n",
       "    <tr>\n",
       "      <th>0</th>\n",
       "      <td>AIR</td>\n",
       "      <td>TLN</td>\n",
       "      <td>-0.25</td>\n",
       "    </tr>\n",
       "    <tr>\n",
       "      <th>1</th>\n",
       "      <td>AMG1L</td>\n",
       "      <td>VLN</td>\n",
       "      <td>-0.81</td>\n",
       "    </tr>\n",
       "    <tr>\n",
       "      <th>2</th>\n",
       "      <td>APG1L</td>\n",
       "      <td>VLN</td>\n",
       "      <td>6.30</td>\n",
       "    </tr>\n",
       "    <tr>\n",
       "      <th>3</th>\n",
       "      <td>ARC1T</td>\n",
       "      <td>TLN</td>\n",
       "      <td>-0.56</td>\n",
       "    </tr>\n",
       "    <tr>\n",
       "      <th>4</th>\n",
       "      <td>AUG1L</td>\n",
       "      <td>VLN</td>\n",
       "      <td>0.22</td>\n",
       "    </tr>\n",
       "    <tr>\n",
       "      <th>...</th>\n",
       "      <td>...</td>\n",
       "      <td>...</td>\n",
       "      <td>...</td>\n",
       "    </tr>\n",
       "    <tr>\n",
       "      <th>70</th>\n",
       "      <td>VBL1L</td>\n",
       "      <td>VLN</td>\n",
       "      <td>NaN</td>\n",
       "    </tr>\n",
       "    <tr>\n",
       "      <th>71</th>\n",
       "      <td>VEF1R</td>\n",
       "      <td>RIG</td>\n",
       "      <td>10.68</td>\n",
       "    </tr>\n",
       "    <tr>\n",
       "      <th>72</th>\n",
       "      <td>VIRSI</td>\n",
       "      <td>RIG</td>\n",
       "      <td>0.23</td>\n",
       "    </tr>\n",
       "    <tr>\n",
       "      <th>73</th>\n",
       "      <td>VLP1L</td>\n",
       "      <td>VLN</td>\n",
       "      <td>-0.77</td>\n",
       "    </tr>\n",
       "    <tr>\n",
       "      <th>74</th>\n",
       "      <td>ZMP1L</td>\n",
       "      <td>VLN</td>\n",
       "      <td>NaN</td>\n",
       "    </tr>\n",
       "  </tbody>\n",
       "</table>\n",
       "<p>75 rows × 3 columns</p>\n",
       "</div>"
      ],
      "text/plain": [
       "   Ticker MarketPlace  Price Change(%)\n",
       "0     AIR         TLN            -0.25\n",
       "1   AMG1L         VLN            -0.81\n",
       "2   APG1L         VLN             6.30\n",
       "3   ARC1T         TLN            -0.56\n",
       "4   AUG1L         VLN             0.22\n",
       "..    ...         ...              ...\n",
       "70  VBL1L         VLN              NaN\n",
       "71  VEF1R         RIG            10.68\n",
       "72  VIRSI         RIG             0.23\n",
       "73  VLP1L         VLN            -0.77\n",
       "74  ZMP1L         VLN              NaN\n",
       "\n",
       "[75 rows x 3 columns]"
      ]
     },
     "execution_count": 65,
     "metadata": {},
     "output_type": "execute_result"
    }
   ],
   "source": [
    "data_simpl =  data[[\"Ticker\",\"MarketPlace\",'Price Change(%)']]\n",
    "data_simpl"
   ]
  },
  {
   "cell_type": "code",
   "execution_count": 69,
   "id": "41227e8f",
   "metadata": {},
   "outputs": [],
   "source": [
    "mean_values = data_simpl.groupby(\"MarketPlace\")[\"Price Change(%)\"].transform(\"mean\")"
   ]
  },
  {
   "cell_type": "code",
   "execution_count": 76,
   "id": "6a321e13",
   "metadata": {},
   "outputs": [],
   "source": [
    "del data_simpl[\"Mean\"]"
   ]
  },
  {
   "cell_type": "code",
   "execution_count": 87,
   "id": "6982654f",
   "metadata": {},
   "outputs": [
    {
     "data": {
      "text/html": [
       "<div>\n",
       "<style scoped>\n",
       "    .dataframe tbody tr th:only-of-type {\n",
       "        vertical-align: middle;\n",
       "    }\n",
       "\n",
       "    .dataframe tbody tr th {\n",
       "        vertical-align: top;\n",
       "    }\n",
       "\n",
       "    .dataframe thead th {\n",
       "        text-align: right;\n",
       "    }\n",
       "</style>\n",
       "<table border=\"1\" class=\"dataframe\">\n",
       "  <thead>\n",
       "    <tr style=\"text-align: right;\">\n",
       "      <th></th>\n",
       "      <th>Ticker</th>\n",
       "      <th>Name</th>\n",
       "      <th>ISIN</th>\n",
       "      <th>Currency</th>\n",
       "      <th>MarketPlace</th>\n",
       "      <th>List/segment</th>\n",
       "      <th>Average Price</th>\n",
       "      <th>Open Price</th>\n",
       "      <th>High Price</th>\n",
       "      <th>Low Price</th>\n",
       "      <th>Last close Price</th>\n",
       "      <th>Last Price</th>\n",
       "      <th>Price Change(%)</th>\n",
       "      <th>Best bid</th>\n",
       "      <th>Best ask</th>\n",
       "      <th>Trades</th>\n",
       "      <th>Volume</th>\n",
       "      <th>Turnover</th>\n",
       "      <th>Industry</th>\n",
       "      <th>Supersector</th>\n",
       "    </tr>\n",
       "  </thead>\n",
       "  <tbody>\n",
       "  </tbody>\n",
       "</table>\n",
       "</div>"
      ],
      "text/plain": [
       "Empty DataFrame\n",
       "Columns: [Ticker, Name, ISIN, Currency, MarketPlace, List/segment, Average Price, Open Price, High Price, Low Price, Last close Price, Last Price, Price Change(%), Best bid, Best ask, Trades, Volume, Turnover, Industry, Supersector]\n",
       "Index: []"
      ]
     },
     "execution_count": 87,
     "metadata": {},
     "output_type": "execute_result"
    }
   ],
   "source": [
    "pandas.read_excel(\"https://nasdaqbaltic.com/statistics/en/shares?download=1&date=2023-03-05\")"
   ]
  },
  {
   "cell_type": "code",
   "execution_count": 112,
   "id": "55633fd1",
   "metadata": {},
   "outputs": [],
   "source": [
    "dates = pandas.date_range(\"2023-03-01\",\"2023-04-05\",freq=\"d\")"
   ]
  },
  {
   "cell_type": "code",
   "execution_count": 118,
   "id": "9af47bf4",
   "metadata": {},
   "outputs": [],
   "source": [
    "for date in dates:\n",
    "    date_str = str(date.date().year) + \"-\" + str(date.date().month) + \"-\" + str(date.date().day)\n",
    "    filename = \"https://nasdaqbaltic.com/statistics/en/shares?download=1&date=\" + date_str\n",
    "    prices_dat = pandas.read_excel(filename)\n",
    "    data[date_str] = prices_dat"
   ]
  },
  {
   "cell_type": "code",
   "execution_count": 168,
   "id": "377b02c2",
   "metadata": {},
   "outputs": [
    {
     "data": {
      "text/plain": [
       "[<matplotlib.lines.Line2D at 0x24eceda26e0>]"
      ]
     },
     "execution_count": 168,
     "metadata": {},
     "output_type": "execute_result"
    },
    {
     "data": {
      "image/png": "[encoded data removed]",
      "text/plain": [
       "<Figure size 640x480 with 1 Axes>"
      ]
     },
     "metadata": {},
     "output_type": "display_data"
    }
   ],
   "source": [
    "dates = pandas.date_range(\"2023-03-01\",\"2023-04-05\",freq=\"d\")\n",
    "for date in dates:\n",
    "    date_str = str(date.date().year) + \"-\" + str(date.date().month) + \"-\" + str(date.date().day)\n",
    "    filename = \"https://nasdaqbaltic.com/statistics/en/shares?download=1&date=\" + date_str\n",
    "    prices_dat = pandas.read_excel(filename)\n",
    "    data[date_str] = prices_dat\n",
    "\n",
    "ticker = \"IGN1L\"\n",
    "prices = list()\n",
    "dates = list()\n",
    "\n",
    "for date,data_day in data.items():\n",
    "    avg_price = list(data_day[data_day[\"Ticker\"] == ticker][\"Average Price\"])\n",
    "    if len(avg_price) > 0:\n",
    "        price = avg_price[0]\n",
    "        prices.append(price)\n",
    "        dates.append(date)\n",
    "    \n",
    "pl.plot(dates,prices)"
   ]
  },
  {
   "cell_type": "code",
   "execution_count": null,
   "id": "67e9e8ed",
   "metadata": {},
   "outputs": [],
   "source": []
  }
 ],
 "metadata": {
  "kernelspec": {
   "display_name": "Python 3 (ipykernel)",
   "language": "python",
   "name": "python3"
  },
  "language_info": {
   "codemirror_mode": {
    "name": "ipython",
    "version": 3
   },
   "file_extension": ".py",
   "mimetype": "text/x-python",
   "name": "python",
   "nbconvert_exporter": "python",
   "pygments_lexer": "ipython3",
   "version": "3.10.10"
  }
 },
 "nbformat": 4,
 "nbformat_minor": 5
}
