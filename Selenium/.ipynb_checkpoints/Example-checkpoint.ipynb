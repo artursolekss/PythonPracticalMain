{
 "cells": [
  {
   "cell_type": "code",
   "execution_count": 1,
   "id": "3719006a",
   "metadata": {},
   "outputs": [],
   "source": [
    "from selenium import webdriver\n",
    "\n",
    "\n",
    "browser = webdriver.Chrome()\n",
    "browser.get(\"https://phptravels.com/demo/\")\n"
   ]
  },
  {
   "cell_type": "code",
   "execution_count": 3,
   "id": "71b87215",
   "metadata": {},
   "outputs": [],
   "source": [
    "nav_bar_btn = browser.find_element(\"xpath\",\"//div[@class='container df jcsb']//..//button[@class='dn mobile_button']\")"
   ]
  },
  {
   "cell_type": "code",
   "execution_count": 9,
   "id": "f6a3b28a",
   "metadata": {},
   "outputs": [],
   "source": [
    "# nav_bar_btn.click()# click on the navigation bar"
   ]
  },
  {
   "cell_type": "code",
   "execution_count": 12,
   "id": "23a4f86c",
   "metadata": {},
   "outputs": [],
   "source": [
    "form_element = browser.find_element(\"xpath\",\"//div[@class='container']//..//div[@class='demo_form bgb br8 p3']//..//div[@class='form']\")"
   ]
  },
  {
   "cell_type": "code",
   "execution_count": 16,
   "id": "a4e9139f",
   "metadata": {},
   "outputs": [],
   "source": [
    "fn_element = form_element.find_element(\"name\",\"first_name\")\n",
    "ln_element = form_element.find_element(\"name\",\"last_name\")\n",
    "bn_element = form_element.find_element(\"name\",\"business_name\")\n",
    "email_element = form_element.find_element(\"name\",\"email\")"
   ]
  },
  {
   "cell_type": "code",
   "execution_count": 23,
   "id": "1532179c",
   "metadata": {},
   "outputs": [],
   "source": [
    "from selenium.webdriver.common.keys import Keys\n",
    "\n",
    "fn_element.clear()\n",
    "fn_element.send_keys(\"Arturs\")\n",
    "\n",
    "ln_element.clear()\n",
    "ln_element.send_keys(\"Olekss\")\n"
   ]
  },
  {
   "cell_type": "code",
   "execution_count": 25,
   "id": "169a4619",
   "metadata": {},
   "outputs": [],
   "source": [
    "sumbit_btn = form_element.find_element(\"xpath\",\"//button[contains(text(),'Submit')]\")"
   ]
  },
  {
   "cell_type": "code",
   "execution_count": 34,
   "id": "416ca794",
   "metadata": {},
   "outputs": [],
   "source": [
    "sumbit_btn.click()"
   ]
  },
  {
   "cell_type": "code",
   "execution_count": 35,
   "id": "5c282c1f",
   "metadata": {},
   "outputs": [],
   "source": [
    "alert_element = browser.switch_to.alert"
   ]
  },
  {
   "cell_type": "code",
   "execution_count": 36,
   "id": "a88adffb",
   "metadata": {},
   "outputs": [],
   "source": [
    "alert_element.dismiss()\n",
    "\n",
    "browser.switch_to.default_content()"
   ]
  },
  {
   "cell_type": "code",
   "execution_count": 37,
   "id": "6550be72",
   "metadata": {},
   "outputs": [],
   "source": [
    "bn_element.clear()\n",
    "bn_element.send_keys(\"Arturs Olekss\")\n",
    "\n",
    "email_element.clear()\n",
    "email_element.send_keys(\"aolekss@gmail.com\")"
   ]
  },
  {
   "cell_type": "code",
   "execution_count": 39,
   "id": "d3acff6a",
   "metadata": {},
   "outputs": [],
   "source": [
    "result_element = form_element.find_element(\"xpath\",\"//input[@placeholder='Result ?']\")"
   ]
  },
  {
   "cell_type": "code",
   "execution_count": 45,
   "id": "58ef2af0",
   "metadata": {},
   "outputs": [],
   "source": [
    "equation = form_element.find_element(\"id\",\"numb1\").find_element(\"xpath\",\"..\").text"
   ]
  },
  {
   "cell_type": "code",
   "execution_count": 46,
   "id": "75d5488d",
   "metadata": {},
   "outputs": [],
   "source": [
    "equation = equation.replace(\" =\",\"\")"
   ]
  },
  {
   "cell_type": "code",
   "execution_count": 48,
   "id": "de83c723",
   "metadata": {},
   "outputs": [],
   "source": [
    "result = eval(equation)"
   ]
  },
  {
   "cell_type": "code",
   "execution_count": 50,
   "id": "1f3f0847",
   "metadata": {},
   "outputs": [],
   "source": [
    "result_element.clear()\n",
    "result_element.send_keys(result)\n",
    "sumbit_btn.click()"
   ]
  },
  {
   "cell_type": "code",
   "execution_count": null,
   "id": "52631ea4",
   "metadata": {},
   "outputs": [],
   "source": []
  }
 ],
 "metadata": {
  "kernelspec": {
   "display_name": "Python 3 (ipykernel)",
   "language": "python",
   "name": "python3"
  },
  "language_info": {
   "codemirror_mode": {
    "name": "ipython",
    "version": 3
   },
   "file_extension": ".py",
   "mimetype": "text/x-python",
   "name": "python",
   "nbconvert_exporter": "python",
   "pygments_lexer": "ipython3",
   "version": "3.10.11"
  }
 },
 "nbformat": 4,
 "nbformat_minor": 5
}
