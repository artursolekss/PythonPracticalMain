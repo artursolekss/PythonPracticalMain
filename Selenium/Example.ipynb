{
 "cells": [
  {
   "cell_type": "code",
   "execution_count": 52,
   "id": "0ce5a592",
   "metadata": {},
   "outputs": [],
   "source": [
    "from selenium import webdriver\n",
    "\n",
    "\n",
    "browser = webdriver.Chrome()\n",
    "browser.get(\"https://phptravels.com/demo/\")\n"
   ]
  },
  {
   "cell_type": "code",
   "execution_count": 53,
   "id": "8d98d8a1",
   "metadata": {},
   "outputs": [],
   "source": [
    "nav_bar_btn = browser.find_element(\"xpath\",\"//div[@class='container df jcsb']//..//button[@class='dn mobile_button']\")"
   ]
  },
  {
   "cell_type": "code",
   "execution_count": 9,
   "id": "7e21e9d4",
   "metadata": {},
   "outputs": [],
   "source": [
    "# nav_bar_btn.click()# click on the navigation bar"
   ]
  },
  {
   "cell_type": "code",
   "execution_count": 54,
   "id": "f131a5a8",
   "metadata": {},
   "outputs": [],
   "source": [
    "form_element = browser.find_element(\"xpath\",\"//div[@class='container']//..//div[@class='demo_form bgb br8 p3']//..//div[@class='form']\")"
   ]
  },
  {
   "cell_type": "code",
   "execution_count": 55,
   "id": "6faa562a",
   "metadata": {},
   "outputs": [],
   "source": [
    "fn_element = form_element.find_element(\"name\",\"first_name\")\n",
    "ln_element = form_element.find_element(\"name\",\"last_name\")\n",
    "bn_element = form_element.find_element(\"name\",\"business_name\")\n",
    "email_element = form_element.find_element(\"name\",\"email\")"
   ]
  },
  {
   "cell_type": "code",
   "execution_count": 56,
   "id": "f784aeba",
   "metadata": {},
   "outputs": [],
   "source": [
    "from selenium.webdriver.common.keys import Keys\n",
    "\n",
    "fn_element.clear()\n",
    "fn_element.send_keys(\"Arturs\")\n",
    "\n",
    "ln_element.clear()\n",
    "ln_element.send_keys(\"Olekss\")\n"
   ]
  },
  {
   "cell_type": "code",
   "execution_count": 25,
   "id": "3eaa472e",
   "metadata": {},
   "outputs": [],
   "source": [
    "sumbit_btn = form_element.find_element(\"xpath\",\"//button[contains(text(),'Submit')]\")"
   ]
  },
  {
   "cell_type": "code",
   "execution_count": 34,
   "id": "c8a9f707",
   "metadata": {},
   "outputs": [],
   "source": [
    "sumbit_btn.click()"
   ]
  },
  {
   "cell_type": "code",
   "execution_count": 35,
   "id": "a2d7c242",
   "metadata": {},
   "outputs": [],
   "source": [
    "alert_element = browser.switch_to.alert"
   ]
  },
  {
   "cell_type": "code",
   "execution_count": 36,
   "id": "6b492258",
   "metadata": {},
   "outputs": [],
   "source": [
    "alert_element.dismiss()\n",
    "\n",
    "browser.switch_to.default_content()"
   ]
  },
  {
   "cell_type": "code",
   "execution_count": 37,
   "id": "52afd751",
   "metadata": {},
   "outputs": [],
   "source": [
    "bn_element.clear()\n",
    "bn_element.send_keys(\"Arturs Olekss\")\n",
    "\n",
    "email_element.clear()\n",
    "email_element.send_keys(\"aolekss@gmail.com\")"
   ]
  },
  {
   "cell_type": "code",
   "execution_count": 39,
   "id": "c9a73427",
   "metadata": {},
   "outputs": [],
   "source": [
    "result_element = form_element.find_element(\"xpath\",\"//input[@placeholder='Result ?']\")"
   ]
  },
  {
   "cell_type": "code",
   "execution_count": 45,
   "id": "d84362b5",
   "metadata": {},
   "outputs": [],
   "source": [
    "equation = form_element.find_element(\"id\",\"numb1\").find_element(\"xpath\",\"..\").text"
   ]
  },
  {
   "cell_type": "code",
   "execution_count": 46,
   "id": "4a7c910d",
   "metadata": {},
   "outputs": [],
   "source": [
    "equation = equation.replace(\" =\",\"\")"
   ]
  },
  {
   "cell_type": "code",
   "execution_count": 48,
   "id": "7d63507e",
   "metadata": {},
   "outputs": [],
   "source": [
    "result = eval(equation)"
   ]
  },
  {
   "cell_type": "code",
   "execution_count": 51,
   "id": "20d4fb4c",
   "metadata": {},
   "outputs": [],
   "source": [
    "result_element.clear()\n",
    "result_element.send_keys(result)\n",
    "sumbit_btn.click()"
   ]
  },
  {
   "cell_type": "code",
   "execution_count": null,
   "id": "1ccc4286",
   "metadata": {},
   "outputs": [],
   "source": []
  }
 ],
 "metadata": {
  "kernelspec": {
   "display_name": "Python 3 (ipykernel)",
   "language": "python",
   "name": "python3"
  },
  "language_info": {
   "codemirror_mode": {
    "name": "ipython",
    "version": 3
   },
   "file_extension": ".py",
   "mimetype": "text/x-python",
   "name": "python",
   "nbconvert_exporter": "python",
   "pygments_lexer": "ipython3",
   "version": "3.10.11"
  }
 },
 "nbformat": 4,
 "nbformat_minor": 5
}
