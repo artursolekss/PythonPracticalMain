{
 "cells": [
  {
   "cell_type": "code",
   "execution_count": 52,
   "id": "8d91abbb",
   "metadata": {},
   "outputs": [],
   "source": [
    "from selenium import webdriver\n",
    "\n",
    "\n",
    "browser = webdriver.Chrome()\n",
    "browser.get(\"https://phptravels.com/demo/\")\n"
   ]
  },
  {
   "cell_type": "code",
   "execution_count": 53,
   "id": "fbc83a2f",
   "metadata": {},
   "outputs": [],
   "source": [
    "nav_bar_btn = browser.find_element(\"xpath\",\"//div[@class='container df jcsb']//..//button[@class='dn mobile_button']\")"
   ]
  },
  {
   "cell_type": "code",
   "execution_count": 9,
   "id": "9ed0846c",
   "metadata": {},
   "outputs": [],
   "source": [
    "# nav_bar_btn.click()# click on the navigation bar"
   ]
  },
  {
   "cell_type": "code",
   "execution_count": 54,
   "id": "a364b669",
   "metadata": {},
   "outputs": [],
   "source": [
    "form_element = browser.find_element(\"xpath\",\"//div[@class='container']//..//div[@class='demo_form bgb br8 p3']//..//div[@class='form']\")"
   ]
  },
  {
   "cell_type": "code",
   "execution_count": 55,
   "id": "843edb6a",
   "metadata": {},
   "outputs": [],
   "source": [
    "fn_element = form_element.find_element(\"name\",\"first_name\")\n",
    "ln_element = form_element.find_element(\"name\",\"last_name\")\n",
    "bn_element = form_element.find_element(\"name\",\"business_name\")\n",
    "email_element = form_element.find_element(\"name\",\"email\")"
   ]
  },
  {
   "cell_type": "code",
   "execution_count": 56,
   "id": "691f8656",
   "metadata": {},
   "outputs": [],
   "source": [
    "from selenium.webdriver.common.keys import Keys\n",
    "\n",
    "fn_element.clear()\n",
    "fn_element.send_keys(\"Arturs\")\n",
    "\n",
    "ln_element.clear()\n",
    "ln_element.send_keys(\"Olekss\")\n"
   ]
  },
  {
   "cell_type": "code",
   "execution_count": 57,
   "id": "d55a66a0",
   "metadata": {},
   "outputs": [],
   "source": [
    "sumbit_btn = form_element.find_element(\"xpath\",\"//button[contains(text(),'Submit')]\")"
   ]
  },
  {
   "cell_type": "code",
   "execution_count": 58,
   "id": "304e1c50",
   "metadata": {},
   "outputs": [],
   "source": [
    "sumbit_btn.click()"
   ]
  },
  {
   "cell_type": "code",
   "execution_count": 59,
   "id": "44e27c3c",
   "metadata": {},
   "outputs": [],
   "source": [
    "alert_element = browser.switch_to.alert"
   ]
  },
  {
   "cell_type": "code",
   "execution_count": 60,
   "id": "691cf626",
   "metadata": {},
   "outputs": [],
   "source": [
    "alert_element.dismiss()\n",
    "\n",
    "browser.switch_to.default_content()"
   ]
  },
  {
   "cell_type": "code",
   "execution_count": 61,
   "id": "91127b05",
   "metadata": {},
   "outputs": [],
   "source": [
    "bn_element.clear()\n",
    "bn_element.send_keys(\"Arturs Olekss\")\n",
    "\n",
    "email_element.clear()\n",
    "email_element.send_keys(\"aolekss@gmail.com\")"
   ]
  },
  {
   "cell_type": "code",
   "execution_count": 62,
   "id": "c6a34ea5",
   "metadata": {},
   "outputs": [],
   "source": [
    "result_element = form_element.find_element(\"xpath\",\"//input[@placeholder='Result ?']\")"
   ]
  },
  {
   "cell_type": "code",
   "execution_count": 63,
   "id": "aa32a1ca",
   "metadata": {},
   "outputs": [],
   "source": [
    "equation = form_element.find_element(\"id\",\"numb1\").find_element(\"xpath\",\"..\").text"
   ]
  },
  {
   "cell_type": "code",
   "execution_count": 64,
   "id": "dd626cd0",
   "metadata": {},
   "outputs": [],
   "source": [
    "equation = equation.replace(\" =\",\"\")"
   ]
  },
  {
   "cell_type": "code",
   "execution_count": 65,
   "id": "afcf6913",
   "metadata": {},
   "outputs": [],
   "source": [
    "result = eval(equation)"
   ]
  },
  {
   "cell_type": "code",
   "execution_count": 66,
   "id": "c06fd7a2",
   "metadata": {},
   "outputs": [],
   "source": [
    "result_element.clear()\n",
    "result_element.send_keys(result)\n",
    "sumbit_btn.click()"
   ]
  },
  {
   "cell_type": "code",
   "execution_count": null,
   "id": "a9f2e16b",
   "metadata": {},
   "outputs": [],
   "source": []
  }
 ],
 "metadata": {
  "kernelspec": {
   "display_name": "Python 3 (ipykernel)",
   "language": "python",
   "name": "python3"
  },
  "language_info": {
   "codemirror_mode": {
    "name": "ipython",
    "version": 3
   },
   "file_extension": ".py",
   "mimetype": "text/x-python",
   "name": "python",
   "nbconvert_exporter": "python",
   "pygments_lexer": "ipython3",
   "version": "3.10.11"
  }
 },
 "nbformat": 4,
 "nbformat_minor": 5
}
