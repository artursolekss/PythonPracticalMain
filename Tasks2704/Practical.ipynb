{
 "cells": [
  {
   "cell_type": "code",
   "execution_count": 2,
   "id": "c1caf1b5",
   "metadata": {},
   "outputs": [],
   "source": [
    "#Point 1\n",
    "import sqlite3\n",
    "\n",
    "conn = sqlite3.connect(\"db.db\")\n",
    "\n",
    "cursor = conn.cursor()\n",
    "\n",
    "# with open(\"myshop.sql\",\"r\") as f: -- MYSQL format not accepter\n",
    "with open(\"mysqop_lite.sql\",\"r\") as f:\n",
    "    sql_query = f.read()\n",
    "\n",
    "cursor.executescript(sql_query)#can execute many SQL queries (separated at ;)\n",
    "conn.commit()\n",
    "cursor.close()\n",
    "conn.close()\n",
    "\n"
   ]
  },
  {
   "cell_type": "code",
   "execution_count": 49,
   "id": "bfc01d27",
   "metadata": {},
   "outputs": [
    {
     "data": {
      "text/plain": [
       "2"
      ]
     },
     "execution_count": 49,
     "metadata": {},
     "output_type": "execute_result"
    }
   ],
   "source": [
    "#Point 4\n",
    "from sqlalchemy import create_engine,text\n",
    "import pymysql\n",
    "import pandas as pd\n",
    "\n",
    "cities = pd.read_excel(\"Cities.xlsx\")\n",
    "\n",
    "engine = create_engine('mysql+pymysql://root:@localhost/geography')\n",
    "\n",
    "with engine.begin() as con:\n",
    "    countries_ids = pd.read_sql(text(\"SELECT id,external_id FROM countries\"),con)\n",
    "    existing_ext_ids = pd.read_sql(text(\"SELECT ext_id FROM cities\"),con)\n",
    "\n",
    "mask = cities[\"EXT_ID\"].isin(existing_ext_ids[\"ext_id\"])\n",
    "cities = cities[~mask]\n",
    "cities = cities.merge(countries_ids,left_on=\"COUNTRY_EXT_ID\",right_on=\"external_id\")\n",
    "\n",
    "col_ren = {\"id\":\"country\"}\n",
    "cities.columns = [col_ren.get(x,x) for x in cities.columns]\n",
    "cities = cities.drop(columns=[\"COUNTRY_EXT_ID\",\"external_id\"])\n",
    "cities.to_sql(name=\"cities\",con=engine,if_exists=\"append\",index=False)\n",
    "\n"
   ]
  },
  {
   "cell_type": "code",
   "execution_count": null,
   "id": "ce55aafe",
   "metadata": {},
   "outputs": [],
   "source": []
  }
 ],
 "metadata": {
  "kernelspec": {
   "display_name": "Python 3 (ipykernel)",
   "language": "python",
   "name": "python3"
  },
  "language_info": {
   "codemirror_mode": {
    "name": "ipython",
    "version": 3
   },
   "file_extension": ".py",
   "mimetype": "text/x-python",
   "name": "python",
   "nbconvert_exporter": "python",
   "pygments_lexer": "ipython3",
   "version": "3.10.11"
  }
 },
 "nbformat": 4,
 "nbformat_minor": 5
}
