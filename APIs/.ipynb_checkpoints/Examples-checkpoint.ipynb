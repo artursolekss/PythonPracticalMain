{
 "cells": [
  {
   "cell_type": "code",
   "execution_count": 16,
   "id": "0e31443d",
   "metadata": {},
   "outputs": [
    {
     "data": {
      "text/plain": [
       "'The claws on the cat’s back paws aren’t as sharp as the claws on the front paws because the claws in the back don’t retract and, consequently, become worn.'"
      ]
     },
     "execution_count": 16,
     "metadata": {},
     "output_type": "execute_result"
    }
   ],
   "source": [
    "import requests\n",
    "\n",
    "url = \"https://catfact.ninja/fact\"\n",
    "\n",
    "response = requests.get(url)\n",
    "data = response.json()\n",
    "data[\"fact\"]\n"
   ]
  },
  {
   "cell_type": "code",
   "execution_count": 17,
   "id": "356f40a6",
   "metadata": {},
   "outputs": [
    {
     "data": {
      "text/plain": [
       "'\"Hello Arturs\"'"
      ]
     },
     "execution_count": 17,
     "metadata": {},
     "output_type": "execute_result"
    }
   ],
   "source": [
    "response = requests.get(\"http://localhost/test_get_req.php?name=Arturs\")\n",
    "response.text"
   ]
  },
  {
   "cell_type": "code",
   "execution_count": 26,
   "id": "3134a0ec",
   "metadata": {},
   "outputs": [],
   "source": [
    "url = \"http://localhost/test_post_req.php\"\n",
    "\n",
    "data = {\"name\":\"Arturs\",\"lastname\":\"Olekss\"}\n",
    "headers = {\"Content-Type\":\"application/json\"}\n",
    "\n",
    "response = requests.post(url,headers=headers,json=data)\n",
    "data_result = response.json()\n"
   ]
  },
  {
   "cell_type": "code",
   "execution_count": 25,
   "id": "0c5d466c",
   "metadata": {},
   "outputs": [
    {
     "data": {
      "text/plain": [
       "'<br />\\n<b>Warning</b>:  Undefined property: stdClass::$last_name in <b>C:\\\\xampp\\\\htdocs\\\\test_post_req.php</b> on line <b>5</b><br />\\n{\"greet\":\"Hello Arturs \"}'"
      ]
     },
     "execution_count": 25,
     "metadata": {},
     "output_type": "execute_result"
    }
   ],
   "source": [
    "data_result"
   ]
  },
  {
   "cell_type": "code",
   "execution_count": null,
   "id": "d861a179",
   "metadata": {},
   "outputs": [],
   "source": []
  }
 ],
 "metadata": {
  "kernelspec": {
   "display_name": "Python 3 (ipykernel)",
   "language": "python",
   "name": "python3"
  },
  "language_info": {
   "codemirror_mode": {
    "name": "ipython",
    "version": 3
   },
   "file_extension": ".py",
   "mimetype": "text/x-python",
   "name": "python",
   "nbconvert_exporter": "python",
   "pygments_lexer": "ipython3",
   "version": "3.10.11"
  }
 },
 "nbformat": 4,
 "nbformat_minor": 5
}
