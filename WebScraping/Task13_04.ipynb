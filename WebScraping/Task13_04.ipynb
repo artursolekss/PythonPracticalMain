{
 "cells": [
  {
   "cell_type": "code",
   "execution_count": 26,
   "id": "0e3a82df",
   "metadata": {},
   "outputs": [],
   "source": [
    "from bs4 import BeautifulSoup\n",
    "import requests"
   ]
  },
  {
   "cell_type": "code",
   "execution_count": 27,
   "id": "de51f485",
   "metadata": {},
   "outputs": [],
   "source": [
    "response = requests.get(\"https://en.wikipedia.org/wiki/List_of_sovereign_states\")\n",
    "html_content = response.content\n",
    "soup = BeautifulSoup(html_content,\"html.parser\")"
   ]
  },
  {
   "cell_type": "code",
   "execution_count": 28,
   "id": "d9970153",
   "metadata": {},
   "outputs": [],
   "source": [
    "table_countries = soup.find(\"table\")"
   ]
  },
  {
   "cell_type": "code",
   "execution_count": 29,
   "id": "6de5c91c",
   "metadata": {},
   "outputs": [],
   "source": [
    "countries_rows = table_countries.find(\"tbody\").find_all(\"tr\")"
   ]
  },
  {
   "cell_type": "code",
   "execution_count": 30,
   "id": "5e08662a",
   "metadata": {},
   "outputs": [
    {
     "data": {
      "text/plain": [
       "'UN member state'"
      ]
     },
     "execution_count": 30,
     "metadata": {},
     "output_type": "execute_result"
    }
   ],
   "source": [
    "countries_rows[7].find_all(\"td\")[1].text.replace(\"A \",\"\").replace(\"\\n\",\"\")"
   ]
  },
  {
   "cell_type": "code",
   "execution_count": 31,
   "id": "5755e9ca",
   "metadata": {},
   "outputs": [
    {
     "data": {
      "text/plain": [
       "'/wiki/Andorra'"
      ]
     },
     "execution_count": 31,
     "metadata": {},
     "output_type": "execute_result"
    }
   ],
   "source": [
    "countries_rows[7].find_all(\"td\")[0].find(\"a\")[\"href\"]"
   ]
  },
  {
   "cell_type": "code",
   "execution_count": 32,
   "id": "eecbb6ff",
   "metadata": {},
   "outputs": [],
   "source": [
    "country_list = list()\n",
    "for country_row in countries_rows:\n",
    "    try:\n",
    "        columns = country_row.find_all(\"td\")\n",
    "        if columns[1].text.replace(\"A \",\"\").replace(\"\\n\",\"\") == 'UN member state':\n",
    "            country_a = columns[0].find(\"a\")\n",
    "            country_element = {\"title\":country_a[\"title\"],\"link\":country_a[\"href\"]}\n",
    "            country_list.append(country_element)\n",
    "    except:\n",
    "        pass"
   ]
  },
  {
   "cell_type": "code",
   "execution_count": 37,
   "id": "e9b92b83",
   "metadata": {},
   "outputs": [],
   "source": [
    "country = country_list[0]\n",
    "response = requests.get(\"https://en.wikipedia.org\" + country.[\"link\"])\n",
    "content = response.content\n",
    "soup_afgh = BeautifulSoup(content)"
   ]
  },
  {
   "cell_type": "code",
   "execution_count": 45,
   "id": "907ff3b4",
   "metadata": {},
   "outputs": [],
   "source": [
    "div_content_element = soup_afgh.find(\"div\",{\"id\":\"mw-content-text\"}).find(class_=\"mw-parser-output\")"
   ]
  },
  {
   "cell_type": "code",
   "execution_count": 53,
   "id": "1161ec77",
   "metadata": {},
   "outputs": [],
   "source": [
    "start = False\n",
    "text = country[\"title\"] + \"\\n\"\n",
    "for element in div_content_element:\n",
    "    if start == True and element.name == \"p\":\n",
    "        text += element.text\n",
    "    elif element.name == \"table\":\n",
    "        start = True\n",
    "    elif element.name == \"metadata\":\n",
    "        break\n",
    "    \n",
    "        "
   ]
  },
  {
   "cell_type": "code",
   "execution_count": 55,
   "id": "9e7f2fec",
   "metadata": {},
   "outputs": [
    {
     "ename": "UnicodeEncodeError",
     "evalue": "'charmap' codec can't encode character '\\u0101' in position 5608: character maps to <undefined>",
     "output_type": "error",
     "traceback": [
      "\u001b[1;31m---------------------------------------------------------------------------\u001b[0m",
      "\u001b[1;31mUnicodeEncodeError\u001b[0m                        Traceback (most recent call last)",
      "Cell \u001b[1;32mIn[55], line 2\u001b[0m\n\u001b[0;32m      1\u001b[0m \u001b[38;5;28;01mwith\u001b[39;00m \u001b[38;5;28mopen\u001b[39m(country[\u001b[38;5;124m\"\u001b[39m\u001b[38;5;124mtitle\u001b[39m\u001b[38;5;124m\"\u001b[39m]\u001b[38;5;241m+\u001b[39m\u001b[38;5;124m\"\u001b[39m\u001b[38;5;124m.txt\u001b[39m\u001b[38;5;124m\"\u001b[39m,\u001b[38;5;124m\"\u001b[39m\u001b[38;5;124mw\u001b[39m\u001b[38;5;124m\"\u001b[39m) \u001b[38;5;28;01mas\u001b[39;00m f:\n\u001b[1;32m----> 2\u001b[0m     \u001b[43mf\u001b[49m\u001b[38;5;241;43m.\u001b[39;49m\u001b[43mwrite\u001b[49m\u001b[43m(\u001b[49m\u001b[43mtext\u001b[49m\u001b[43m)\u001b[49m\n",
      "File \u001b[1;32mC:\\Program Files\\WindowsApps\\PythonSoftwareFoundation.Python.3.10_3.10.3056.0_x64__qbz5n2kfra8p0\\lib\\encodings\\cp1252.py:19\u001b[0m, in \u001b[0;36mIncrementalEncoder.encode\u001b[1;34m(self, input, final)\u001b[0m\n\u001b[0;32m     18\u001b[0m \u001b[38;5;28;01mdef\u001b[39;00m \u001b[38;5;21mencode\u001b[39m(\u001b[38;5;28mself\u001b[39m, \u001b[38;5;28minput\u001b[39m, final\u001b[38;5;241m=\u001b[39m\u001b[38;5;28;01mFalse\u001b[39;00m):\n\u001b[1;32m---> 19\u001b[0m     \u001b[38;5;28;01mreturn\u001b[39;00m \u001b[43mcodecs\u001b[49m\u001b[38;5;241;43m.\u001b[39;49m\u001b[43mcharmap_encode\u001b[49m\u001b[43m(\u001b[49m\u001b[38;5;28;43minput\u001b[39;49m\u001b[43m,\u001b[49m\u001b[38;5;28;43mself\u001b[39;49m\u001b[38;5;241;43m.\u001b[39;49m\u001b[43merrors\u001b[49m\u001b[43m,\u001b[49m\u001b[43mencoding_table\u001b[49m\u001b[43m)\u001b[49m[\u001b[38;5;241m0\u001b[39m]\n",
      "\u001b[1;31mUnicodeEncodeError\u001b[0m: 'charmap' codec can't encode character '\\u0101' in position 5608: character maps to <undefined>"
     ]
    }
   ],
   "source": [
    "with open(country[\"title\"]+\".txt\",\"w\",encoding=\"utf8\") as f:\n",
    "    f.write(text)"
   ]
  },
  {
   "cell_type": "code",
   "execution_count": null,
   "id": "f4e6ad1d",
   "metadata": {},
   "outputs": [],
   "source": []
  }
 ],
 "metadata": {
  "kernelspec": {
   "display_name": "Python 3 (ipykernel)",
   "language": "python",
   "name": "python3"
  },
  "language_info": {
   "codemirror_mode": {
    "name": "ipython",
    "version": 3
   },
   "file_extension": ".py",
   "mimetype": "text/x-python",
   "name": "python",
   "nbconvert_exporter": "python",
   "pygments_lexer": "ipython3",
   "version": "3.10.11"
  }
 },
 "nbformat": 4,
 "nbformat_minor": 5
}
