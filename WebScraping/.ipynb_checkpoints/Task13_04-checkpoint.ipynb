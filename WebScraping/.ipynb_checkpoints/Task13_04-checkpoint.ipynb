{
 "cells": [
  {
   "cell_type": "code",
   "execution_count": 26,
   "id": "0e3a82df",
   "metadata": {},
   "outputs": [],
   "source": [
    "from bs4 import BeautifulSoup\n",
    "import requests"
   ]
  },
  {
   "cell_type": "code",
   "execution_count": 27,
   "id": "de51f485",
   "metadata": {},
   "outputs": [],
   "source": [
    "response = requests.get(\"https://en.wikipedia.org/wiki/List_of_sovereign_states\")\n",
    "html_content = response.content\n",
    "soup = BeautifulSoup(html_content,\"html.parser\")"
   ]
  },
  {
   "cell_type": "code",
   "execution_count": 28,
   "id": "d9970153",
   "metadata": {},
   "outputs": [],
   "source": [
    "table_countries = soup.find(\"table\")"
   ]
  },
  {
   "cell_type": "code",
   "execution_count": 29,
   "id": "6de5c91c",
   "metadata": {},
   "outputs": [],
   "source": [
    "countries_rows = table_countries.find(\"tbody\").find_all(\"tr\")"
   ]
  },
  {
   "cell_type": "code",
   "execution_count": 30,
   "id": "5e08662a",
   "metadata": {},
   "outputs": [
    {
     "data": {
      "text/plain": [
       "'UN member state'"
      ]
     },
     "execution_count": 30,
     "metadata": {},
     "output_type": "execute_result"
    }
   ],
   "source": [
    "countries_rows[7].find_all(\"td\")[1].text.replace(\"A \",\"\").replace(\"\\n\",\"\")"
   ]
  },
  {
   "cell_type": "code",
   "execution_count": 31,
   "id": "5755e9ca",
   "metadata": {},
   "outputs": [
    {
     "data": {
      "text/plain": [
       "'/wiki/Andorra'"
      ]
     },
     "execution_count": 31,
     "metadata": {},
     "output_type": "execute_result"
    }
   ],
   "source": [
    "countries_rows[7].find_all(\"td\")[0].find(\"a\")[\"href\"]"
   ]
  },
  {
   "cell_type": "code",
   "execution_count": 32,
   "id": "eecbb6ff",
   "metadata": {},
   "outputs": [],
   "source": [
    "country_list = list()\n",
    "for country_row in countries_rows:\n",
    "    try:\n",
    "        columns = country_row.find_all(\"td\")\n",
    "        if columns[1].text.replace(\"A \",\"\").replace(\"\\n\",\"\") == 'UN member state':\n",
    "            country_a = columns[0].find(\"a\")\n",
    "            country_element = {\"title\":country_a[\"title\"],\"link\":country_a[\"href\"]}\n",
    "            country_list.append(country_element)\n",
    "    except:\n",
    "        pass"
   ]
  },
  {
   "cell_type": "code",
   "execution_count": 37,
   "id": "e9b92b83",
   "metadata": {},
   "outputs": [],
   "source": [
    "# country = country_list[0]\n",
    "# response = requests.get(\"https://en.wikipedia.org\" + country[\"link\"])\n",
    "# content = response.content\n",
    "# soup_afgh = BeautifulSoup(content)"
   ]
  },
  {
   "cell_type": "code",
   "execution_count": 62,
   "id": "907ff3b4",
   "metadata": {},
   "outputs": [],
   "source": [
    "# div_content_element = soup_afgh.find(\"div\",{\"id\":\"mw-content-text\"}).find(class_=\"mw-parser-output\")"
   ]
  },
  {
   "cell_type": "code",
   "execution_count": 53,
   "id": "8f9bd257",
   "metadata": {},
   "outputs": [],
   "source": [
    "# start = False\n",
    "# text = country[\"title\"] + \"\\n\"\n",
    "# for element in div_content_element:\n",
    "#     if start == True and element.name == \"p\":\n",
    "#         text += element.text\n",
    "#     elif element.name == \"table\":\n",
    "#         start = True\n",
    "#     elif element.name == \"metadata\":\n",
    "#         break\n",
    "    \n",
    "        "
   ]
  },
  {
   "cell_type": "code",
   "execution_count": 56,
   "id": "3f84fa8f",
   "metadata": {},
   "outputs": [],
   "source": [
    "# with open(country[\"title\"]+\".txt\",\"w\",encoding=\"utf8\") as f:\n",
    "#     f.write(text)"
   ]
  },
  {
   "cell_type": "code",
   "execution_count": 70,
   "id": "beff5018",
   "metadata": {},
   "outputs": [],
   "source": [
    "def get_country_main_info(country):\n",
    "    response = requests.get(\"https://en.wikipedia.org\" + country[\"link\"])\n",
    "    content = response.content\n",
    "    soup = BeautifulSoup(content)\n",
    "    start = False\n",
    "    text = country[\"title\"] + \"\\n\"\n",
    "    div_content_element = soup.find(\"div\",{\"id\":\"mw-content-text\"}).find(class_=\"mw-parser-output\")\n",
    "    for element in div_content_element:\n",
    "        if start == True and element.name == \"p\":\n",
    "            text += element.text\n",
    "        elif element.name == \"table\":\n",
    "            start = True\n",
    "        elif element.name == \"metadata\":\n",
    "            break\n",
    "    return text"
   ]
  },
  {
   "cell_type": "code",
   "execution_count": 71,
   "id": "ddc924f5",
   "metadata": {},
   "outputs": [],
   "source": [
    "file_text= \"\"\n",
    "for country in country_list:\n",
    "    country_text = get_country_main_info(country)\n",
    "    if file_text == \"\":\n",
    "        file_text = country_text\n",
    "    else:\n",
    "        file_text += \"\\n\" + country_text"
   ]
  },
  {
   "cell_type": "code",
   "execution_count": 74,
   "id": "d3fc8b80",
   "metadata": {},
   "outputs": [],
   "source": [
    "with open(\"All_countries_summary.txt\",\"w\",encoding=\"utf8\") as f:\n",
    "    f.write(file_text)"
   ]
  },
  {
   "cell_type": "code",
   "execution_count": 75,
   "id": "eee80ae4",
   "metadata": {},
   "outputs": [],
   "source": [
    "country_tables = list()"
   ]
  },
  {
   "cell_type": "code",
   "execution_count": 76,
   "id": "a2de7357",
   "metadata": {},
   "outputs": [],
   "source": [
    "def get_country_table(country):\n",
    "    response = requests.get(\"https://en.wikipedia.org\" + country[\"link\"])\n",
    "    content = response.content\n",
    "    soup = BeautifulSoup(content)\n",
    "    table = soup.find(\"table\",class_=\"infobox ib-country vcard\")\n",
    "    return table"
   ]
  },
  {
   "cell_type": "code",
   "execution_count": 77,
   "id": "c4e5fed8",
   "metadata": {},
   "outputs": [],
   "source": [
    "for country in country_list:\n",
    "    country_tables.append(get_country_table(country))"
   ]
  },
  {
   "cell_type": "code",
   "execution_count": 95,
   "id": "88e834e2",
   "metadata": {},
   "outputs": [],
   "source": [
    "# output_html_content = \"\"\n",
    "# for country_tab in country_tables:\n",
    "#     output_html_content += str(country_tab).replace(\"//\",\"https://\")"
   ]
  },
  {
   "cell_type": "code",
   "execution_count": 96,
   "id": "9881e362",
   "metadata": {},
   "outputs": [],
   "source": [
    "# soup_out = BeautifulSoup(output_html_content,\"html.parser\")"
   ]
  },
  {
   "cell_type": "code",
   "execution_count": 97,
   "id": "39b81a61",
   "metadata": {},
   "outputs": [],
   "source": [
    "# with open(\"countries_table.html\",\"w\",encoding=\"utf8\") as f:\n",
    "#     f.write(str(soup_out))"
   ]
  },
  {
   "cell_type": "code",
   "execution_count": 98,
   "id": "9250ec1d",
   "metadata": {},
   "outputs": [],
   "source": [
    "import pandas"
   ]
  },
  {
   "cell_type": "code",
   "execution_count": 271,
   "id": "dd2d8cb2",
   "metadata": {},
   "outputs": [],
   "source": [
    "df = pandas.DataFrame(columns=[\"Country\",\"Capital\",\"Demonym\",\"Population\",\"Area\"])"
   ]
  },
  {
   "cell_type": "code",
   "execution_count": 104,
   "id": "13096baf",
   "metadata": {},
   "outputs": [
    {
     "name": "stderr",
     "output_type": "stream",
     "text": [
      "C:\\Users\\arturs.olekss\\AppData\\Local\\Temp\\ipykernel_1404\\3774515319.py:1: FutureWarning: The frame.append method is deprecated and will be removed from pandas in a future version. Use pandas.concat instead.\n",
      "  df.append( {\"Country\": \"Latvia\",\"Capital\":\"Riga\",\"Demonym\":\"Latvian\",\"Population\":2000000,\"Area\":64000},ignore_index=True)\n"
     ]
    },
    {
     "data": {
      "text/html": [
       "<div>\n",
       "<style scoped>\n",
       "    .dataframe tbody tr th:only-of-type {\n",
       "        vertical-align: middle;\n",
       "    }\n",
       "\n",
       "    .dataframe tbody tr th {\n",
       "        vertical-align: top;\n",
       "    }\n",
       "\n",
       "    .dataframe thead th {\n",
       "        text-align: right;\n",
       "    }\n",
       "</style>\n",
       "<table border=\"1\" class=\"dataframe\">\n",
       "  <thead>\n",
       "    <tr style=\"text-align: right;\">\n",
       "      <th></th>\n",
       "      <th>Country</th>\n",
       "      <th>Capital</th>\n",
       "      <th>Demonym</th>\n",
       "      <th>Population</th>\n",
       "      <th>Area</th>\n",
       "    </tr>\n",
       "  </thead>\n",
       "  <tbody>\n",
       "    <tr>\n",
       "      <th>0</th>\n",
       "      <td>Latvia</td>\n",
       "      <td>Riga</td>\n",
       "      <td>Latvian</td>\n",
       "      <td>2000000</td>\n",
       "      <td>64000</td>\n",
       "    </tr>\n",
       "  </tbody>\n",
       "</table>\n",
       "</div>"
      ],
      "text/plain": [
       "  Country Capital  Demonym Population   Area\n",
       "0  Latvia    Riga  Latvian    2000000  64000"
      ]
     },
     "execution_count": 104,
     "metadata": {},
     "output_type": "execute_result"
    }
   ],
   "source": [
    "# df.append( {\"Country\": \"Latvia\",\"Capital\":\"Riga\",\"Demonym\":\"Latvian\",\"Population\":2000000,\"Area\":64000},ignore_index=True)"
   ]
  },
  {
   "cell_type": "code",
   "execution_count": 105,
   "id": "5e998a12",
   "metadata": {},
   "outputs": [],
   "source": [
    "country_tab = country_tables[20] "
   ]
  },
  {
   "cell_type": "code",
   "execution_count": 109,
   "id": "be8d16e9",
   "metadata": {},
   "outputs": [],
   "source": [
    "name = country_tab.find(class_=\"fn org country-name\").text"
   ]
  },
  {
   "cell_type": "code",
   "execution_count": 113,
   "id": "1d9fbd49",
   "metadata": {},
   "outputs": [],
   "source": [
    "rows = country_tab.find_all(\"tr\")"
   ]
  },
  {
   "cell_type": "code",
   "execution_count": 172,
   "id": "bd41c39d",
   "metadata": {},
   "outputs": [],
   "source": [
    "for row in rows:\n",
    "    try:\n",
    "        head = row.find(\"th\")\n",
    "        if head.text == \"Capital\":\n",
    "            capitals = row.find(\"td\").find_all(\"a\")\n",
    "            capital_text = \"\"\n",
    "            for capital in capitals:\n",
    "                if capital_text == \"\":\n",
    "                    capital_text = capital[\"title\"]\n",
    "                else:\n",
    "                    capital_text += \";\" + capital[\"title\"]\n",
    "        elif head.find(\"a\")[\"title\"] == \"Demonym\":\n",
    "            denonym = row.find(\"td\").find(\"a\").text\n",
    "    except:\n",
    "        pass"
   ]
  },
  {
   "cell_type": "code",
   "execution_count": 162,
   "id": "99fddffd",
   "metadata": {},
   "outputs": [
    {
     "data": {
      "text/plain": [
       "'La Paz;Sucre'"
      ]
     },
     "execution_count": 162,
     "metadata": {},
     "output_type": "execute_result"
    }
   ],
   "source": [
    "capital_text"
   ]
  },
  {
   "cell_type": "code",
   "execution_count": 127,
   "id": "05550a8a",
   "metadata": {},
   "outputs": [],
   "source": [
    "mrg_top_rows = country_tab.find_all(class_=\"mergedtoprow\")"
   ]
  },
  {
   "cell_type": "code",
   "execution_count": 154,
   "id": "d24ffe8d",
   "metadata": {},
   "outputs": [],
   "source": [
    "for mrg_top_row in mrg_top_rows:\n",
    "    try:\n",
    "        text = mrg_top_row.find(\"a\").text.replace(\" \",\"\").replace(\"\\n\",\"\")\n",
    "        if text == \"Area\":\n",
    "            area_row = mrg_top_row.next_sibling\n",
    "        elif text == \"Population\":\n",
    "            population_row = mrg_top_row.next_sibling\n",
    "    except:\n",
    "        pass"
   ]
  },
  {
   "cell_type": "code",
   "execution_count": 152,
   "id": "15ba2d1b",
   "metadata": {},
   "outputs": [],
   "source": [
    "area = int(area_row.find(\"td\").text.split(\"\\xa0\")[0].replace(\",\",\"\"))"
   ]
  },
  {
   "cell_type": "code",
   "execution_count": 153,
   "id": "24bffeae",
   "metadata": {},
   "outputs": [
    {
     "data": {
      "text/plain": [
       "1098581"
      ]
     },
     "execution_count": 153,
     "metadata": {},
     "output_type": "execute_result"
    }
   ],
   "source": [
    "area"
   ]
  },
  {
   "cell_type": "code",
   "execution_count": 160,
   "id": "b71d50bd",
   "metadata": {},
   "outputs": [
    {
     "data": {
      "text/plain": [
       "'12054379'"
      ]
     },
     "execution_count": 160,
     "metadata": {},
     "output_type": "execute_result"
    }
   ],
   "source": [
    "population = population_row.find(\"td\").text.replace(\",\",\"\").split(\"[\")[0]"
   ]
  },
  {
   "cell_type": "code",
   "execution_count": 173,
   "id": "84797d4f",
   "metadata": {},
   "outputs": [
    {
     "data": {
      "text/plain": [
       "'Bolivian'"
      ]
     },
     "execution_count": 173,
     "metadata": {},
     "output_type": "execute_result"
    }
   ],
   "source": [
    "denonym"
   ]
  },
  {
   "cell_type": "code",
   "execution_count": 266,
   "id": "6d7714f9",
   "metadata": {},
   "outputs": [],
   "source": [
    "def get_country_details(country_tab):\n",
    "    name = country_tab.find(class_=\"fn org country-name\").text\n",
    "    rows = country_tab.find_all(\"tr\")\n",
    "    for row in rows:\n",
    "        try:\n",
    "            head = row.find(\"th\")\n",
    "            if \"Capital\" in head.text:\n",
    "                capitals = row.find(\"td\").find_all(\"a\")\n",
    "                capital_text = \"\"\n",
    "                for capital in capitals:\n",
    "                    if capital_text == \"\":\n",
    "                        capital_text = capital[\"title\"]\n",
    "                    else:\n",
    "                        capital_text += \";\" + capital[\"title\"]\n",
    "            elif head.find(\"a\")[\"title\"] == \"Demonym\":\n",
    "                denonym = row.find(\"td\").find(\"a\").text\n",
    "        except:\n",
    "            pass\n",
    "    \n",
    "    mrg_top_rows = country_tab.find_all(class_=\"mergedtoprow\")\n",
    "    for mrg_top_row in mrg_top_rows:\n",
    "        try:\n",
    "            text = mrg_top_row.find(\"a\").text.replace(\" \",\"\").replace(\"\\n\",\"\")\n",
    "            if text == \"Area\":\n",
    "                area_row = mrg_top_row.next_sibling\n",
    "            elif text == \"Population\":\n",
    "                population_row = mrg_top_row.next_sibling\n",
    "        except:\n",
    "            pass\n",
    "    area = float(area_row.find(\"td\").text.split(\"\\xa0\")[0].split(\"[\")[0].replace(\",\",\"\"))\n",
    "    population = population_row.find(\"td\").text.replace(\",\",\"\").split(\"[\")[0]\n",
    "    \n",
    "    return {\"Country\": name,\"Capital\":capital_text,\n",
    "             \"Demonym\":denonym,\n",
    "            \"Population\":population,\"Area\":area}\n",
    "    "
   ]
  },
  {
   "cell_type": "code",
   "execution_count": 276,
   "id": "2612d1ee",
   "metadata": {},
   "outputs": [
    {
     "ename": "IndentationError",
     "evalue": "unindent does not match any outer indentation level (<tokenize>, line 5)",
     "output_type": "error",
     "traceback": [
      "\u001b[1;36m  File \u001b[1;32m<tokenize>:5\u001b[1;36m\u001b[0m\n\u001b[1;33m    except:\u001b[0m\n\u001b[1;37m    ^\u001b[0m\n\u001b[1;31mIndentationError\u001b[0m\u001b[1;31m:\u001b[0m unindent does not match any outer indentation level\n"
     ]
    }
   ],
   "source": [
    "for tab_country in country_tables:\n",
    "    try:\n",
    "        row = pandas.DataFrame(get_country_details(tab_country),index=[0])\n",
    "        df = pandas.concat([df,row],ignore_index=True)\n",
    "    except:\n",
    "        pass"
   ]
  },
  {
   "cell_type": "code",
   "execution_count": 274,
   "id": "7937b2b8",
   "metadata": {},
   "outputs": [
    {
     "data": {
      "text/html": [
       "<div>\n",
       "<style scoped>\n",
       "    .dataframe tbody tr th:only-of-type {\n",
       "        vertical-align: middle;\n",
       "    }\n",
       "\n",
       "    .dataframe tbody tr th {\n",
       "        vertical-align: top;\n",
       "    }\n",
       "\n",
       "    .dataframe thead th {\n",
       "        text-align: right;\n",
       "    }\n",
       "</style>\n",
       "<table border=\"1\" class=\"dataframe\">\n",
       "  <thead>\n",
       "    <tr style=\"text-align: right;\">\n",
       "      <th></th>\n",
       "      <th>Country</th>\n",
       "      <th>Capital</th>\n",
       "      <th>Demonym</th>\n",
       "      <th>Population</th>\n",
       "      <th>Area</th>\n",
       "    </tr>\n",
       "  </thead>\n",
       "  <tbody>\n",
       "  </tbody>\n",
       "</table>\n",
       "</div>"
      ],
      "text/plain": [
       "Empty DataFrame\n",
       "Columns: [Country, Capital, Demonym, Population, Area]\n",
       "Index: []"
      ]
     },
     "execution_count": 274,
     "metadata": {},
     "output_type": "execute_result"
    }
   ],
   "source": [
    "df"
   ]
  },
  {
   "cell_type": "code",
   "execution_count": null,
   "id": "c951b788",
   "metadata": {},
   "outputs": [],
   "source": []
  }
 ],
 "metadata": {
  "kernelspec": {
   "display_name": "Python 3 (ipykernel)",
   "language": "python",
   "name": "python3"
  },
  "language_info": {
   "codemirror_mode": {
    "name": "ipython",
    "version": 3
   },
   "file_extension": ".py",
   "mimetype": "text/x-python",
   "name": "python",
   "nbconvert_exporter": "python",
   "pygments_lexer": "ipython3",
   "version": "3.10.11"
  }
 },
 "nbformat": 4,
 "nbformat_minor": 5
}
