{
 "cells": [
  {
   "cell_type": "code",
   "execution_count": 6,
   "id": "94ba6ecd",
   "metadata": {},
   "outputs": [],
   "source": [
    "#CHECK CONNECTION\n",
    "\n",
    "import mysql.connector\n",
    "\n",
    "# Establishing a connection to the database\n",
    "cnx = mysql.connector.connect(user='root',\n",
    "                              password='',\n",
    "                              host='localhost',\n",
    "                              database='myshop')\n",
    "\n",
    "# Closing the connection\n",
    "cnx.close()"
   ]
  },
  {
   "cell_type": "code",
   "execution_count": 7,
   "id": "5185527e",
   "metadata": {},
   "outputs": [],
   "source": [
    "# Establishing a connection to the database\n",
    "cnx = mysql.connector.connect(user='root',\n",
    "                              password='',\n",
    "                              host='localhost',\n",
    "                              database='myshop')\n",
    "\n",
    "# Creating a cursor object\n",
    "cursor = cnx.cursor()\n",
    "\n",
    "# Executing a SELECT statement\n",
    "# Inserting a new row\n",
    "query = \"INSERT INTO supplier (supplier_name, phone, email) VALUES ('Coffee maker','28594679','coffmaker@make.com')\"\n",
    "cursor.execute(query)\n",
    "\n",
    "# Committing the transaction\n",
    "cnx.commit()\n",
    "\n",
    "# Closing the cursor and connection\n",
    "cursor.close()\n",
    "cnx.close()\n"
   ]
  },
  {
   "cell_type": "code",
   "execution_count": 8,
   "id": "3a658c1e",
   "metadata": {},
   "outputs": [
    {
     "name": "stdout",
     "output_type": "stream",
     "text": [
      "(1, 'Coffee maker', 28594679, 'coffmaker@make.com')\n"
     ]
    }
   ],
   "source": [
    "# Establishing a connection to the database\n",
    "cnx = mysql.connector.connect(user='root',\n",
    "                              password='',\n",
    "                              host='localhost',\n",
    "                              database='myshop')\n",
    "\n",
    "# Creating a cursor object\n",
    "cursor = cnx.cursor()\n",
    "\n",
    "# Executing a SELECT statement\n",
    "# Inserting a new row\n",
    "query = \"select * from supplier\"\n",
    "cursor.execute(query)\n",
    "\n",
    "# Fetching the results\n",
    "for row in cursor.fetchall():\n",
    "    print(row)\n",
    "\n",
    "# Closing the cursor and connection\n",
    "cursor.close()\n",
    "cnx.close()"
   ]
  },
  {
   "cell_type": "code",
   "execution_count": 14,
   "id": "cd2331ee",
   "metadata": {},
   "outputs": [
    {
     "name": "stdout",
     "output_type": "stream",
     "text": [
      "Enter the name of the supplier:\n",
      "Choco\n",
      "Enter the phone of the supplier:\n",
      "28594769\n",
      "Enter the email of the supplier:\n",
      "choco@gmail.com\n"
     ]
    }
   ],
   "source": [
    "# Establishing a connection to the database\n",
    "cnx = mysql.connector.connect(user='root',\n",
    "                              password='',\n",
    "                              host='localhost',\n",
    "                              database='myshop')\n",
    "\n",
    "# Creating a cursor object\n",
    "cursor = cnx.cursor()\n",
    "\n",
    "name = input(\"Enter the name of the supplier:\\n\")\n",
    "phone = input(\"Enter the phone of the supplier:\\n\")\n",
    "email = input(\"Enter the email of the supplier:\\n\")\n",
    "\n",
    "# Executing a SELECT statement\n",
    "# Inserting a new row\n",
    "query = \"INSERT INTO supplier (supplier_name, phone, email) VALUES (%s,%s,%s)\"\n",
    "data = (name,phone,email)\n",
    "cursor.execute(query,data)\n",
    "\n",
    "# Committing the transaction\n",
    "cnx.commit()\n",
    "\n",
    "# Closing the cursor and connection\n",
    "cursor.close()\n",
    "cnx.close()"
   ]
  },
  {
   "cell_type": "code",
   "execution_count": 20,
   "id": "678b61e9",
   "metadata": {},
   "outputs": [
    {
     "name": "stdout",
     "output_type": "stream",
     "text": [
      "Enter the ID of the supplier:\n",
      "3\n"
     ]
    }
   ],
   "source": [
    "# Establishing a connection to the database\n",
    "cnx = mysql.connector.connect(user='root',\n",
    "                              password='',\n",
    "                              host='localhost',\n",
    "                              database='myshop')\n",
    "\n",
    "# Creating a cursor object\n",
    "cursor = cnx.cursor()\n",
    "\n",
    "id = int(input(\"Enter the ID of the supplier:\\n\"))\n",
    "# Creating a cursor object\n",
    "cursor = cnx.cursor()\n",
    "\n",
    "# Executing a SELECT statement\n",
    "# Inserting a new row\n",
    "query = \"select * from supplier where id = %s\"\n",
    "data = (id,)#tuple of one element\n",
    "cursor.execute(query,data)\n",
    "\n",
    "# Fetching the results\n",
    "for row in cursor.fetchall():\n",
    "    print(row)\n",
    "\n",
    "# Closing the cursor and connection\n",
    "cursor.close()\n",
    "cnx.close()"
   ]
  },
  {
   "cell_type": "code",
   "execution_count": 40,
   "id": "4489a064",
   "metadata": {},
   "outputs": [],
   "source": [
    "import pandas as pd\n",
    "import pymysql\n",
    "\n",
    "from sqlalchemy import create_engine\n",
    "from sqlalchemy import text\n",
    "\n",
    "# # Establishing a connection to the database\n",
    "# cnx = mysql.connector.connect(user='root',\n",
    "#                               password='',\n",
    "#                               host='localhost',\n",
    "#                               database='myshop')\n",
    "\n",
    "\n",
    "engine = create_engine(\"mysql+pymysql://root:@localhost/myshop\")\n",
    "# query = \"SELECT * FROM supplier\"\n",
    "\n",
    "\n",
    "with engine.begin() as con:\n",
    "    # suppliers_df = pd.DataFrame()\n",
    "    query = text(\"SELECT * FROM supplier\")\n",
    "    suppliers_df = pd.read_sql(query,con)\n",
    "    # cnx.close()\n"
   ]
  },
  {
   "cell_type": "code",
   "execution_count": 41,
   "id": "d2cdd3d9",
   "metadata": {},
   "outputs": [
    {
     "data": {
      "text/html": [
       "<div>\n",
       "<style scoped>\n",
       "    .dataframe tbody tr th:only-of-type {\n",
       "        vertical-align: middle;\n",
       "    }\n",
       "\n",
       "    .dataframe tbody tr th {\n",
       "        vertical-align: top;\n",
       "    }\n",
       "\n",
       "    .dataframe thead th {\n",
       "        text-align: right;\n",
       "    }\n",
       "</style>\n",
       "<table border=\"1\" class=\"dataframe\">\n",
       "  <thead>\n",
       "    <tr style=\"text-align: right;\">\n",
       "      <th></th>\n",
       "      <th>id</th>\n",
       "      <th>supplier_name</th>\n",
       "      <th>phone</th>\n",
       "      <th>email</th>\n",
       "    </tr>\n",
       "  </thead>\n",
       "  <tbody>\n",
       "    <tr>\n",
       "      <th>0</th>\n",
       "      <td>1</td>\n",
       "      <td>Coffee maker</td>\n",
       "      <td>28594679</td>\n",
       "      <td>coffmaker@make.com</td>\n",
       "    </tr>\n",
       "    <tr>\n",
       "      <th>1</th>\n",
       "      <td>2</td>\n",
       "      <td>Fruit paradise</td>\n",
       "      <td>28564968</td>\n",
       "      <td>frtparad@gmail.com</td>\n",
       "    </tr>\n",
       "    <tr>\n",
       "      <th>2</th>\n",
       "      <td>4</td>\n",
       "      <td>Choco</td>\n",
       "      <td>28594769</td>\n",
       "      <td>choco@gmail.com</td>\n",
       "    </tr>\n",
       "  </tbody>\n",
       "</table>\n",
       "</div>"
      ],
      "text/plain": [
       "   id   supplier_name     phone               email\n",
       "0   1    Coffee maker  28594679  coffmaker@make.com\n",
       "1   2  Fruit paradise  28564968  frtparad@gmail.com\n",
       "2   4           Choco  28594769     choco@gmail.com"
      ]
     },
     "execution_count": 41,
     "metadata": {},
     "output_type": "execute_result"
    }
   ],
   "source": [
    "suppliers_df"
   ]
  },
  {
   "cell_type": "code",
   "execution_count": 48,
   "id": "b45cdb57",
   "metadata": {},
   "outputs": [],
   "source": [
    "import pandas as pd\n",
    "import pymysql\n",
    "\n",
    "from sqlalchemy import create_engine\n",
    "from sqlalchemy import text\n",
    "\n",
    "engine = create_engine(\"mysql+pymysql://root:@localhost/myshop\")\n",
    "\n",
    "with engine.begin() as con:\n",
    "    query = text(\"SELECT * FROM supplier\")\n",
    "    suppliers_df = pd.read_sql(query,con)\n",
    "    suppliers_df.to_csv(\"Suppliers.csv\",index=False,encoding=\"utf8\",sep=\";\")\n",
    "    suppliers_df.to_excel(\"Suppliers.xlsx\",index=False)\n"
   ]
  },
  {
   "cell_type": "code",
   "execution_count": 55,
   "id": "2d328b72",
   "metadata": {},
   "outputs": [
    {
     "data": {
      "text/plain": [
       "3"
      ]
     },
     "execution_count": 55,
     "metadata": {},
     "output_type": "execute_result"
    }
   ],
   "source": [
    "import pandas as pd\n",
    "import pymysql\n",
    "from sqlalchemy import create_engine\n",
    "\n",
    "engine = create_engine(\"mysql+pymysql://root:@localhost/myshop\")\n",
    "\n",
    "df = pd.read_excel(r\"C:\\Users\\arturs.olekss\\OneDrive - Grupo VASS\\PythonCourse\\Practical\\SQL\\Suppliers.xlsx\")\n",
    "df.to_sql(name=\"supplier\",con=engine,if_exists=\"append\",index=False)\n"
   ]
  },
  {
   "cell_type": "code",
   "execution_count": 53,
   "id": "bb523ade",
   "metadata": {},
   "outputs": [
    {
     "data": {
      "text/html": [
       "<div>\n",
       "<style scoped>\n",
       "    .dataframe tbody tr th:only-of-type {\n",
       "        vertical-align: middle;\n",
       "    }\n",
       "\n",
       "    .dataframe tbody tr th {\n",
       "        vertical-align: top;\n",
       "    }\n",
       "\n",
       "    .dataframe thead th {\n",
       "        text-align: right;\n",
       "    }\n",
       "</style>\n",
       "<table border=\"1\" class=\"dataframe\">\n",
       "  <thead>\n",
       "    <tr style=\"text-align: right;\">\n",
       "      <th></th>\n",
       "      <th>supplier_name</th>\n",
       "      <th>phone</th>\n",
       "      <th>email</th>\n",
       "    </tr>\n",
       "  </thead>\n",
       "  <tbody>\n",
       "    <tr>\n",
       "      <th>0</th>\n",
       "      <td>Juice maker</td>\n",
       "      <td>2897679</td>\n",
       "      <td>juic.make@gmail.com</td>\n",
       "    </tr>\n",
       "    <tr>\n",
       "      <th>1</th>\n",
       "      <td>Vegy garden</td>\n",
       "      <td>21568969</td>\n",
       "      <td>veggard@yahoo.com</td>\n",
       "    </tr>\n",
       "    <tr>\n",
       "      <th>2</th>\n",
       "      <td>Tea garden</td>\n",
       "      <td>25498016</td>\n",
       "      <td>tg@gmail.com</td>\n",
       "    </tr>\n",
       "  </tbody>\n",
       "</table>\n",
       "</div>"
      ],
      "text/plain": [
       "  supplier_name     phone                email\n",
       "0   Juice maker   2897679  juic.make@gmail.com\n",
       "1   Vegy garden  21568969    veggard@yahoo.com\n",
       "2    Tea garden  25498016         tg@gmail.com"
      ]
     },
     "execution_count": 53,
     "metadata": {},
     "output_type": "execute_result"
    }
   ],
   "source": []
  },
  {
   "cell_type": "code",
   "execution_count": 71,
   "id": "1e676fac",
   "metadata": {},
   "outputs": [
    {
     "data": {
      "text/plain": [
       "3"
      ]
     },
     "execution_count": 71,
     "metadata": {},
     "output_type": "execute_result"
    }
   ],
   "source": [
    "import pandas as pd\n",
    "import pymysql\n",
    "from sqlalchemy import create_engine\n",
    "\n",
    "engine = create_engine(\"mysql+pymysql://root:@localhost/myshop\")\n",
    "\n",
    "categories = pd.read_excel(r\"C:\\Users\\arturs.olekss\\OneDrive - Grupo VASS\\PythonCourse\\Practical\\SQL\\Categories.xlsx\",\n",
    "                          converters={\"name\":str,\"external_id\":str},names=(\"name\",\"external_id\"))\n",
    "categories.to_sql(name=\"categories\",con=engine,if_exists=\"append\",index=False)"
   ]
  },
  {
   "cell_type": "code",
   "execution_count": 69,
   "id": "a529e858",
   "metadata": {},
   "outputs": [
    {
     "data": {
      "text/html": [
       "<div>\n",
       "<style scoped>\n",
       "    .dataframe tbody tr th:only-of-type {\n",
       "        vertical-align: middle;\n",
       "    }\n",
       "\n",
       "    .dataframe tbody tr th {\n",
       "        vertical-align: top;\n",
       "    }\n",
       "\n",
       "    .dataframe thead th {\n",
       "        text-align: right;\n",
       "    }\n",
       "</style>\n",
       "<table border=\"1\" class=\"dataframe\">\n",
       "  <thead>\n",
       "    <tr style=\"text-align: right;\">\n",
       "      <th></th>\n",
       "      <th>name</th>\n",
       "      <th>external_id</th>\n",
       "    </tr>\n",
       "  </thead>\n",
       "  <tbody>\n",
       "    <tr>\n",
       "      <th>0</th>\n",
       "      <td>Fruits</td>\n",
       "      <td>0001</td>\n",
       "    </tr>\n",
       "    <tr>\n",
       "      <th>1</th>\n",
       "      <td>Vegetables</td>\n",
       "      <td>0002</td>\n",
       "    </tr>\n",
       "    <tr>\n",
       "      <th>2</th>\n",
       "      <td>Drinks</td>\n",
       "      <td>0003</td>\n",
       "    </tr>\n",
       "  </tbody>\n",
       "</table>\n",
       "</div>"
      ],
      "text/plain": [
       "         name external_id\n",
       "0      Fruits        0001\n",
       "1  Vegetables        0002\n",
       "2      Drinks        0003"
      ]
     },
     "execution_count": 69,
     "metadata": {},
     "output_type": "execute_result"
    }
   ],
   "source": []
  },
  {
   "cell_type": "code",
   "execution_count": 83,
   "id": "1bc2769c",
   "metadata": {},
   "outputs": [],
   "source": [
    "import pandas as pd\n",
    "import pymysql\n",
    "from sqlalchemy import create_engine\n",
    "\n",
    "engine = create_engine(\"mysql+pymysql://root:@localhost/myshop\")\n",
    "\n",
    "products = pd.read_excel(r\"C:\\Users\\arturs.olekss\\OneDrive - Grupo VASS\\PythonCourse\\Practical\\SQL\\Products.xlsx\",\n",
    "                          converters={\"price\":float,\"category\":str})\n",
    "with engine.begin() as con:\n",
    "    query = text(\"SELECT * FROM categories\")\n",
    "    categories_db = pd.read_sql(query,con)\n",
    "\n",
    "products = products.merge(categories_db,left_on=\"category\",right_on=\"external_id\")\n",
    "products = products.drop(columns=[\"name\",\"external_id\",\"category\"])\n",
    "\n",
    "col_ren = {\"id\":\"category\"}\n",
    "products.columns = [col_ren.get(x,x) for x in products.columns]#rename\n",
    "products.to_sql(name=\"products\",con=engine,if_exists=\"append\",index=False)"
   ]
  },
  {
   "cell_type": "code",
   "execution_count": null,
   "id": "7ab408e2",
   "metadata": {},
   "outputs": [],
   "source": []
  }
 ],
 "metadata": {
  "kernelspec": {
   "display_name": "Python 3 (ipykernel)",
   "language": "python",
   "name": "python3"
  },
  "language_info": {
   "codemirror_mode": {
    "name": "ipython",
    "version": 3
   },
   "file_extension": ".py",
   "mimetype": "text/x-python",
   "name": "python",
   "nbconvert_exporter": "python",
   "pygments_lexer": "ipython3",
   "version": "3.10.11"
  }
 },
 "nbformat": 4,
 "nbformat_minor": 5
}
