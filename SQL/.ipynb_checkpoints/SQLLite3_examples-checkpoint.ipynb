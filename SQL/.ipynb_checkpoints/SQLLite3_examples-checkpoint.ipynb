{
 "cells": [
  {
   "cell_type": "code",
   "execution_count": 1,
   "id": "c25804e0",
   "metadata": {},
   "outputs": [
    {
     "data": {
      "text/plain": [
       "<sqlite3.Cursor at 0x1a9a7453dc0>"
      ]
     },
     "execution_count": 1,
     "metadata": {},
     "output_type": "execute_result"
    }
   ],
   "source": [
    "import sqlite3\n",
    "\n",
    "# connect to database\n",
    "conn = sqlite3.connect('example.db')\n",
    "\n",
    "# create a cursor object\n",
    "c = conn.cursor()\n",
    "\n",
    "# create a table\n",
    "c.execute('''CREATE TABLE stocks\n",
    "             (date text, trans text, symbol text, qty real, price real)''')"
   ]
  },
  {
   "cell_type": "code",
   "execution_count": 2,
   "id": "6668d71f",
   "metadata": {},
   "outputs": [
    {
     "name": "stdout",
     "output_type": "stream",
     "text": [
      "[('2006-01-05', 'BUY', 'RHAT', 100.0, 35.14)]\n"
     ]
    }
   ],
   "source": [
    "# insert data into the table\n",
    "c.execute(\"INSERT INTO stocks VALUES ('2006-01-05','BUY','RHAT',100,35.14)\")\n",
    "\n",
    "# save the changes\n",
    "conn.commit()\n",
    "\n",
    "# retrieve data from the table\n",
    "c.execute('SELECT * FROM stocks')\n",
    "print(c.fetchall())\n",
    "\n",
    "# close the connection\n",
    "conn.close()"
   ]
  },
  {
   "cell_type": "code",
   "execution_count": 3,
   "id": "b0966b6d",
   "metadata": {},
   "outputs": [],
   "source": [
    "import pandas as pd\n",
    "\n",
    "# connect to database\n",
    "conn = sqlite3.connect('example.db')\n",
    "\n",
    "stocks = pd.read_sql('SELECT * FROM stocks',conn)\n",
    "# close the connection\n",
    "conn.close()"
   ]
  },
  {
   "cell_type": "code",
   "execution_count": 4,
   "id": "e1a91050",
   "metadata": {},
   "outputs": [
    {
     "data": {
      "text/html": [
       "<div>\n",
       "<style scoped>\n",
       "    .dataframe tbody tr th:only-of-type {\n",
       "        vertical-align: middle;\n",
       "    }\n",
       "\n",
       "    .dataframe tbody tr th {\n",
       "        vertical-align: top;\n",
       "    }\n",
       "\n",
       "    .dataframe thead th {\n",
       "        text-align: right;\n",
       "    }\n",
       "</style>\n",
       "<table border=\"1\" class=\"dataframe\">\n",
       "  <thead>\n",
       "    <tr style=\"text-align: right;\">\n",
       "      <th></th>\n",
       "      <th>date</th>\n",
       "      <th>trans</th>\n",
       "      <th>symbol</th>\n",
       "      <th>qty</th>\n",
       "      <th>price</th>\n",
       "    </tr>\n",
       "  </thead>\n",
       "  <tbody>\n",
       "    <tr>\n",
       "      <th>0</th>\n",
       "      <td>2006-01-05</td>\n",
       "      <td>BUY</td>\n",
       "      <td>RHAT</td>\n",
       "      <td>100.0</td>\n",
       "      <td>35.14</td>\n",
       "    </tr>\n",
       "  </tbody>\n",
       "</table>\n",
       "</div>"
      ],
      "text/plain": [
       "         date trans symbol    qty  price\n",
       "0  2006-01-05   BUY   RHAT  100.0  35.14"
      ]
     },
     "execution_count": 4,
     "metadata": {},
     "output_type": "execute_result"
    }
   ],
   "source": [
    "import sqlite3\n",
    "\n",
    "# connect to the database\n",
    "conn = sqlite3.connect('example.db')\n",
    "\n",
    "# create a cursor object\n",
    "c = conn.cursor()\n",
    "\n",
    "# create a table\n",
    "c.execute(\"CREATE TABLE IF NOT EXISTS users (id INTEGER PRIMARY KEY, name TEXT, email TEXT)\")\n",
    "\n",
    "# insert data into the table using a prepared statement\n",
    "user_data = ('John Doe', 'johndoe@example.com')\n",
    "c.execute(\"INSERT INTO users (name, email) VALUES (?, ?)\", user_data)\n",
    "\n",
    "# retrieve data from the table using a prepared statement\n",
    "c.execute(\"SELECT * FROM users WHERE name = ?\", ('John Doe',))\n",
    "row = c.fetchone()\n",
    "print(row)\n",
    "\n",
    "# close the connection\n",
    "conn.close()"
   ]
  },
  {
   "cell_type": "code",
   "execution_count": null,
   "id": "fccd75e6",
   "metadata": {},
   "outputs": [],
   "source": []
  }
 ],
 "metadata": {
  "kernelspec": {
   "display_name": "Python 3 (ipykernel)",
   "language": "python",
   "name": "python3"
  },
  "language_info": {
   "codemirror_mode": {
    "name": "ipython",
    "version": 3
   },
   "file_extension": ".py",
   "mimetype": "text/x-python",
   "name": "python",
   "nbconvert_exporter": "python",
   "pygments_lexer": "ipython3",
   "version": "3.10.11"
  }
 },
 "nbformat": 4,
 "nbformat_minor": 5
}
